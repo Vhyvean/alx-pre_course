{
  "nbformat": 4,
  "nbformat_minor": 0,
  "metadata": {
    "colab": {
      "provenance": [],
      "authorship_tag": "ABX9TyNm/6J2bq3uaChbQ4OOF9mr",
      "include_colab_link": true
    },
    "kernelspec": {
      "name": "python3",
      "display_name": "Python 3"
    },
    "language_info": {
      "name": "python"
    }
  },
  "cells": [
    {
      "cell_type": "markdown",
      "metadata": {
        "id": "view-in-github",
        "colab_type": "text"
      },
      "source": [
        "<a href=\"https://colab.research.google.com/github/Vhyvean/alx-pre_course/blob/master/loc_and_iloc_DataFrame_checkpoint.ipynb\" target=\"_parent\"><img src=\"https://colab.research.google.com/assets/colab-badge.svg\" alt=\"Open In Colab\"/></a>"
      ]
    },
    {
      "cell_type": "code",
      "execution_count": 1,
      "metadata": {
        "colab": {
          "base_uri": "https://localhost:8080/"
        },
        "id": "sgNaCiwx3NCF",
        "outputId": "a0cb6f63-26d6-4ad1-95b4-e5ef6f4f2e14"
      },
      "outputs": [
        {
          "output_type": "stream",
          "name": "stdout",
          "text": [
            "Employee DataFrame:\n",
            "    Name Department  Age  Gender  Salary  Experience\n",
            "0   John         IT   30    Male   50000           3\n",
            "1   Mary  Marketing   40  Female   60000           7\n",
            "2    Bob      Sales   25    Male   45000           2\n",
            "3  Sarah         IT   35  Female   55000           5\n",
            "4    Tom    Finance   45    Male   70000          10\n",
            "5   Lisa  Marketing   28  Female   55000           4\n",
            "\n",
            " First 3 rows (using iloc):\n",
            "   Name Department  Age  Gender  Salary  Experience\n",
            "0  John         IT   30    Male   50000           3\n",
            "1  Mary  Marketing   40  Female   60000           7\n",
            "2   Bob      Sales   25    Male   45000           2\n",
            "\n",
            "Rows where Department is Marketing (using loc):\n",
            "   Name Department  Age  Gender  Salary  Experience\n",
            "1  Mary  Marketing   40  Female   60000           7\n",
            "5  Lisa  Marketing   28  Female   55000           4\n",
            "\n",
            "Age and Gender columns for the first 4 rows (using iloc):\n",
            "   Age  Gender\n",
            "0   30    Male\n",
            "1   40  Female\n",
            "2   25    Male\n",
            "3   35  Female\n",
            "\n",
            "Salary and Experience for rows where Gender is Male (using loc):\n",
            "   Salary  Experience\n",
            "0   50000           3\n",
            "2   45000           2\n",
            "4   70000          10\n",
            "\n",
            " Task completed successfully!\n"
          ]
        }
      ],
      "source": [
        "import pandas as pd\n",
        "\n",
        "# Create the DataFrame\n",
        "# Create a dictionary called 'data' containing employee details\n",
        "# Each key represents a column name, and each list represents the column values\n",
        "data = {\n",
        "    'Name': ['John', 'Mary', 'Bob', 'Sarah', 'Tom', 'Lisa'],\n",
        "    'Department': ['IT', 'Marketing', 'Sales', 'IT', 'Finance', 'Marketing'],\n",
        "    'Age': [30, 40, 25, 35, 45, 28],\n",
        "    'Gender': ['Male', 'Female', 'Male', 'Female', 'Male', 'Female'],\n",
        "    'Salary': [50000, 60000, 45000, 55000, 70000, 55000],\n",
        "    'Experience': [3, 7, 2, 5, 10,4]\n",
        "}\n",
        "employee_df = pd.DataFrame(data) # Converts the dict into a pandas DataFrame (employee_df)\n",
        "\n",
        "# Display the full data frame\n",
        "print(\"Employee DataFrame:\")\n",
        "print(employee_df)\n",
        "print()\n",
        "\n",
        "# Use iloc method to select the first 3 rows\n",
        "# [:3] means from the start (0) up to index 3 (not including 3)\n",
        "print(\" First 3 rows (using iloc):\")\n",
        "print(employee_df.iloc[:3])\n",
        "print()\n",
        "\n",
        "# Use loc method to select rows where Department is \"Marketing\"\n",
        "# employee_df['Department'] == 'Marketing creates a True/False mask\n",
        "print(\"Rows where Department is Marketing (using loc):\")\n",
        "print(employee_df.loc[employee_df['Department'] == 'Marketing'])\n",
        "print()\n",
        "\n",
        "# Use iloc method to select Age and Gender columns for the first 4 rows\n",
        "# Age = column index 2, Gender = column index 3\n",
        "# [:4] selects the first 4 rows; [2, 3] selects columns at position 2 (Age) and 3 (Gender)\n",
        "print(\"Age and Gender columns for the first 4 rows (using iloc):\")\n",
        "print(employee_df.iloc[:4, [2, 3]])\n",
        "print()\n",
        "\n",
        "# Use loc method to select Salary and Experience for rows where Gender is \"Male\"\n",
        "# loc[row_conditions, [specific_columns]]\n",
        "# This filters rows where Gender is 'Male' and selects only the given columns\n",
        "print(\"Salary and Experience for rows where Gender is Male (using loc):\")\n",
        "print(employee_df.loc[employee_df['Gender'] == 'Male', ['Salary', 'Experience']])\n",
        "print(\"\\n Task completed successfully!\")\n",
        "\n",
        "\n",
        "\n",
        "\n",
        "\n",
        "\n",
        "\n",
        "\n",
        "\n",
        "\n",
        "\n",
        "\n",
        "\n",
        "\n"
      ]
    }
  ]
}