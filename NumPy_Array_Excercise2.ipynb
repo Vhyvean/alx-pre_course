{
  "nbformat": 4,
  "nbformat_minor": 0,
  "metadata": {
    "colab": {
      "provenance": [],
      "authorship_tag": "ABX9TyMPGz+Gn+Y/cqQJUklGVNeI",
      "include_colab_link": true
    },
    "kernelspec": {
      "name": "python3",
      "display_name": "Python 3"
    },
    "language_info": {
      "name": "python"
    }
  },
  "cells": [
    {
      "cell_type": "markdown",
      "metadata": {
        "id": "view-in-github",
        "colab_type": "text"
      },
      "source": [
        "<a href=\"https://colab.research.google.com/github/Vhyvean/alx-pre_course/blob/master/NumPy_Array_Excercise2.ipynb\" target=\"_parent\"><img src=\"https://colab.research.google.com/assets/colab-badge.svg\" alt=\"Open In Colab\"/></a>"
      ]
    },
    {
      "cell_type": "code",
      "execution_count": 3,
      "metadata": {
        "colab": {
          "base_uri": "https://localhost:8080/"
        },
        "id": "wZO56f0G2xrQ",
        "outputId": "1fc4122a-12ba-4a8b-9c82-5c187faf0c77"
      },
      "outputs": [
        {
          "output_type": "stream",
          "name": "stdout",
          "text": [
            "1D Array: [10 11 12 13 14]\n",
            "\n",
            "2D Array:\n",
            " [[20 30 40 50 60]\n",
            " [43 54 65 76 87]\n",
            " [11 22 33 44 55]]\n",
            "\n",
            "3D Array:\n",
            " [[[ 1  2  3  4  5]\n",
            "  [11 21 31 41 51]]\n",
            "\n",
            " [[11 12 13 14 15]\n",
            "  [51 52 53 54  5]]]\n",
            "\n",
            "First column of the 2D array: [20 43 11]\n",
            "Last two columns of 2nd row: [76 87]\n",
            "2nd row excluding last two columns: [43 54 65]\n"
          ]
        }
      ],
      "source": [
        "import numpy as np\n",
        "\n",
        "# Define arrays\n",
        "\n",
        "# 1D Array\n",
        "one_d = np.array([10, 11, 12, 13, 14])\n",
        "print(\"1D Array:\", one_d)\n",
        "\n",
        "# 2D Array\n",
        "two_d = np.array([[20, 30, 40, 50, 60],\n",
        "                  [43, 54, 65, 76, 87],\n",
        "                  [11, 22, 33, 44, 55]])\n",
        "print(\"\\n2D Array:\\n\", two_d)\n",
        "\n",
        "# 3D Array\n",
        "three_d = np.array([[[1, 2, 3, 4, 5],\n",
        "                  [11, 21, 31, 41, 51]],\n",
        "                 [[11, 12, 13, 14, 15],\n",
        "                  [51, 52, 53, 54, 5]]])\n",
        "print(\"\\n3D Array:\\n\", three_d)\n",
        "\n",
        "# 1. Slice the first column of the 2D array\n",
        "first_col = two_d[:, 0]\n",
        "print(\"\\nFirst column of the 2D array:\", first_col)\n",
        "\n",
        "# 2. Slice the last two coloumns of the 2nd row of the 2D array\n",
        "last_two_cols = two_d[1, -2:]\n",
        "print(\"Last two columns of 2nd row:\", last_two_cols)\n",
        "\n",
        "# 3. Slice the 2nd row of the 2D array excluding the last two columns\n",
        "exclude_last_two = two_d[1, :-2]\n",
        "print(\"2nd row excluding last two columns:\", exclude_last_two)\n",
        "\n",
        "\n",
        "\n",
        "\n"
      ]
    }
  ]
}