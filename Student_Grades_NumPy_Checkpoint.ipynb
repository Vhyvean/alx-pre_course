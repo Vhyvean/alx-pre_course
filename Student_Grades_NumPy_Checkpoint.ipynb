{
  "nbformat": 4,
  "nbformat_minor": 0,
  "metadata": {
    "colab": {
      "provenance": [],
      "authorship_tag": "ABX9TyN6Ll7EzCdG7R3IGyVSnXnA",
      "include_colab_link": true
    },
    "kernelspec": {
      "name": "python3",
      "display_name": "Python 3"
    },
    "language_info": {
      "name": "python"
    }
  },
  "cells": [
    {
      "cell_type": "markdown",
      "metadata": {
        "id": "view-in-github",
        "colab_type": "text"
      },
      "source": [
        "<a href=\"https://colab.research.google.com/github/Vhyvean/alx-pre_course/blob/master/Student_Grades_NumPy_Checkpoint.ipynb\" target=\"_parent\"><img src=\"https://colab.research.google.com/assets/colab-badge.svg\" alt=\"Open In Colab\"/></a>"
      ]
    },
    {
      "cell_type": "code",
      "execution_count": 2,
      "metadata": {
        "colab": {
          "base_uri": "https://localhost:8080/"
        },
        "id": "NUn8YBKAWsvA",
        "outputId": "31b923a0-07e9-4be3-eee4-dea5807fb60d"
      },
      "outputs": [
        {
          "output_type": "stream",
          "name": "stdout",
          "text": [
            "Grades: [85 90 88 92 95 80 75 98 89 83]\n",
            "Mean: 87.5\n",
            "Median: 88.5\n",
            "Standard Deviation: 6.591661399070799\n",
            "Maximum Grade: 98\n",
            "Minimum Grade: 75\n",
            "Sorted Grades: [75 80 83 85 88 89 90 92 95 98]\n",
            "Index of Highest Grade: 7\n",
            "Number of Students Scoring Above 90: 3\n",
            "Percentage of Students Scoring Above 90: 30.0\n",
            "Percentage of Students Scoring Below 75: 0.0\n",
            "High Performers: [92 95 98]\n",
            "Passing Grades: [85 90 88 92 95 80 98 89 83]\n"
          ]
        }
      ],
      "source": [
        "import numpy as np\n",
        "\n",
        "# Create the grades array\n",
        "grades = np.array([85, 90, 88, 92, 95, 80, 75, 98, 89, 83])\n",
        "\n",
        "# Calculate the Mean, Median, and Standard deviation\n",
        "mean = np.mean(grades)\n",
        "median = np.median(grades)\n",
        "std_dev = np.std(grades)\n",
        "\n",
        "# Calculate the maximum and minimum grade\n",
        "max_grade = np.max(grades)\n",
        "min_grade = np.min(grades)\n",
        "\n",
        "# Sort the grades in ascending order\n",
        "sorted_grades = np.sort(grades)\n",
        "\n",
        "# Index of the highest grade\n",
        "index_highest = np.argmax(grades)\n",
        "\n",
        "# Number of students scoring above 90\n",
        "count_above_90 = np.sum(grades > 90)\n",
        "\n",
        "# Percentage of students scoring above 90\n",
        "percentage_above_90 = np.mean(grades > 90) * 100\n",
        "\n",
        "# Percentage of students scoring below 75\n",
        "percentage_below_75 = np.mean(grades < 75) * 100\n",
        "\n",
        "# Extract grades above 90 and put in a new array (high_performers)\n",
        "high_performers = grades[grades > 90]\n",
        "\n",
        "# Extract grades above 75 and put in a new array (passing_grades)\n",
        "passing_grades = grades[grades > 75]\n",
        "\n",
        "# Print results\n",
        "print(\"Grades:\", grades)\n",
        "print(\"Mean:\", mean)\n",
        "print(\"Median:\", median)\n",
        "print(\"Standard Deviation:\", std_dev)\n",
        "print(\"Maximum Grade:\", max_grade)\n",
        "print(\"Minimum Grade:\", min_grade)\n",
        "print(\"Sorted Grades:\", sorted_grades)\n",
        "print(\"Index of Highest Grade:\", index_highest)\n",
        "print(\"Number of Students Scoring Above 90:\", count_above_90)\n",
        "print(\"Percentage of Students Scoring Above 90:\", percentage_above_90)\n",
        "print(\"Percentage of Students Scoring Below 75:\", percentage_below_75)\n",
        "print(\"High Performers:\", high_performers)\n",
        "print(\"Passing Grades:\", passing_grades)\n"
      ]
    }
  ]
}