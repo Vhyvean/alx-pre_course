{
  "nbformat": 4,
  "nbformat_minor": 0,
  "metadata": {
    "colab": {
      "provenance": [],
      "authorship_tag": "ABX9TyM9xirR95pGFidy0IkmS77r",
      "include_colab_link": true
    },
    "kernelspec": {
      "name": "python3",
      "display_name": "Python 3"
    },
    "language_info": {
      "name": "python"
    }
  },
  "cells": [
    {
      "cell_type": "markdown",
      "metadata": {
        "id": "view-in-github",
        "colab_type": "text"
      },
      "source": [
        "<a href=\"https://colab.research.google.com/github/Vhyvean/alx-pre_course/blob/master/Creating_A_Bank_Account.ipynb\" target=\"_parent\"><img src=\"https://colab.research.google.com/assets/colab-badge.svg\" alt=\"Open In Colab\"/></a>"
      ]
    },
    {
      "cell_type": "code",
      "execution_count": 1,
      "metadata": {
        "colab": {
          "base_uri": "https://localhost:8080/"
        },
        "id": "j-XKF5xwUy_q",
        "outputId": "cfddb746-b03f-4ac4-f185-adf497142f67"
      },
      "outputs": [
        {
          "output_type": "stream",
          "name": "stdout",
          "text": [
            "[Vivian] Deposit successfull: 800 added. Current balance = 800.0\n",
            "[Vivian] Withdraw successfull: 300 withdrawn. Current balance = 500.0\n",
            "Vivian's Final Balance: 500.0\n",
            "[Lois] Deposit successfull: 1000 added. Current balance = 1500\n",
            "Withdraw failed: insufficient funds\n",
            "Lois' Final Balance: 1500\n"
          ]
        }
      ],
      "source": [
        "# bank_account.py\n",
        "\n",
        "# Create a class to represent a bank account\n",
        "class Account:\n",
        "  # The constructor (__init__) sets up the details of the account when it's first created\n",
        "  def __init__(self, number: str, holder: str, balance: float = 0.0):\n",
        "    # Store the account number as a string\n",
        "    self.number = number\n",
        "    # Store the name of the account holder\n",
        "    self.holder = holder\n",
        "    # Store the starting balance (default is 0.0 if not given)\n",
        "    self.balance = balance\n",
        "\n",
        "  # Method to add money to the account\n",
        "  def deposit(self, amount: float):\n",
        "    # Check if the deposit amount is greater than zero\n",
        "    if amount > 0:\n",
        "      # Increase the account balance by the deposit amount\n",
        "      self.balance += amount\n",
        "      # Print confirmation message with updated balance\n",
        "      print(f\"[{self.holder}] Deposit successfull: {amount} added. Current balance = {self.balance}\")\n",
        "    else:\n",
        "      # Print error message if the amount is not valid\n",
        "      print(\"Deposit failed: amount must be greater than 0\")\n",
        "\n",
        "\n",
        "  # Method to take money out of the account\n",
        "  def withdraw(self, amount: float):\n",
        "    # First check if the withdrawal amount is valid (greater than zero)\n",
        "    if amount <= 0:\n",
        "      # Print error message if amount is invalid\n",
        "      print(\"Withdraw failed: amount must be greater than 0\")\n",
        "      # Then check if there's enough money in the account\n",
        "    elif amount <= self.balance:\n",
        "      # Deduct the amount from the balance\n",
        "      self.balance -= amount\n",
        "      # Print confirmation message with updated balance\n",
        "      print(f\"[{self.holder}] Withdraw successfull: {amount} withdrawn. Current balance = {self.balance}\")\n",
        "    else:\n",
        "      # Print error message if balance is not sufficient\n",
        "      print(\"Withdraw failed: insufficient funds\")\n",
        "\n",
        "\n",
        "  # Method to check the current balance\n",
        "  def check_balance(self):\n",
        "    # Return the balance value when called\n",
        "    return self.balance\n",
        "\n",
        "\n",
        "\n",
        "# --- Testing Section ---\n",
        "\n",
        "# Create the first account for Vivian with default balance of 0\n",
        "my_account = Account(\"ACC1001\", \"Vivian\")\n",
        "# Deposit 800 into Vivian's account\n",
        "my_account.deposit(800)\n",
        "# Withdraw 300 from Vivian's account\n",
        "my_account.withdraw(300)\n",
        "# Print the current balance of Vivian's account\n",
        "print(\"Vivian's Final Balance:\", my_account.check_balance())\n",
        "\n",
        "\n",
        "# Create a second account for another user named Lois, with an initial balance of 500\n",
        "second_account = Account(\"ACC2002\", \"Lois\", 500)\n",
        "# Deposit 1000 into Lois' account\n",
        "second_account.deposit(1000)\n",
        "# Try to withdraw more money than Lois has to test error handling\n",
        "second_account.withdraw(2000)\n",
        "# Print the current balance of Lois' account\n",
        "print(\"Lois' Final Balance:\", second_account.check_balance())\n"
      ]
    }
  ]
}