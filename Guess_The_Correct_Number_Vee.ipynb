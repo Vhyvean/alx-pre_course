{
  "nbformat": 4,
  "nbformat_minor": 0,
  "metadata": {
    "colab": {
      "provenance": [],
      "authorship_tag": "ABX9TyNQDIioDlqzMt0bW25VjgwZ",
      "include_colab_link": true
    },
    "kernelspec": {
      "name": "python3",
      "display_name": "Python 3"
    },
    "language_info": {
      "name": "python"
    }
  },
  "cells": [
    {
      "cell_type": "markdown",
      "metadata": {
        "id": "view-in-github",
        "colab_type": "text"
      },
      "source": [
        "<a href=\"https://colab.research.google.com/github/Vhyvean/alx-pre_course/blob/master/Guess_The_Correct_Number_Vee.ipynb\" target=\"_parent\"><img src=\"https://colab.research.google.com/assets/colab-badge.svg\" alt=\"Open In Colab\"/></a>"
      ]
    },
    {
      "cell_type": "code",
      "execution_count": 2,
      "metadata": {
        "colab": {
          "base_uri": "https://localhost:8080/"
        },
        "id": "YAZ6ztKNItmu",
        "outputId": "b3f97c34-7a52-4df6-80ed-3772d6d39381"
      },
      "outputs": [
        {
          "output_type": "stream",
          "name": "stdout",
          "text": [
            "Enter the minimum number: 1\n",
            "Enter the maximum number: 100\n",
            "How many guesses would you like? 4\n",
            "nI'm thinking of a number between 1 and 100.\n",
            "You have guess 4 guesses to find it. Good luck.\n",
            "\n",
            "Guess #1: 67\n",
            "Too high. Try again.\n",
            "You have 3 guesses left.\n",
            "\n",
            "Guess #2: 85\n",
            "Too high. Try again.\n",
            "You have 2 guesses left.\n",
            "\n",
            "Guess #3: 40\n",
            "Too low. Try again.\n",
            "You have 1 guesses left.\n",
            "\n",
            "Guess #4: 27\n",
            "Too low. Try again.\n",
            "\n",
            " Game over. The correct number was 51.\n"
          ]
        }
      ],
      "source": [
        "import random\n",
        "min_range = int(input(\"Enter the minimum number: \"))\n",
        "max_range = int(input(\"Enter the maximum number: \"))\n",
        "guess_limit = int(input(\"How many guesses would you like? \"))\n",
        "secret_number = random.randint(min_range, max_range)\n",
        "print(f\"nI'm thinking of a number between {min_range} and {max_range}.\")\n",
        "print(f\"You have guess {guess_limit} guesses to find it. Good luck.\\n\")\n",
        "guess_count = 0\n",
        "while guess_count < guess_limit:\n",
        "  guess = int(input(f\"Guess #{guess_count + 1}: \"))\n",
        "  guess_count += 1\n",
        "\n",
        "  if guess == secret_number:\n",
        "    print(\"Congratulations! You guessed the correct number!\")\n",
        "    break\n",
        "  elif guess < secret_number:\n",
        "    print(\"Too low. Try again.\")\n",
        "  else:\n",
        "    print(\"Too high. Try again.\")\n",
        "\n",
        "  if guess_count < guess_limit:\n",
        "    print(f\"You have {guess_limit - guess_count} guesses left.\\n\")\n",
        "\n",
        "if guess != secret_number:\n",
        "  print(f\"\\n Game over. The correct number was {secret_number}.\")\n",
        "\n"
      ]
    }
  ]
}