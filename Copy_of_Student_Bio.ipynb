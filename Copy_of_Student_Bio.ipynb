{
  "nbformat": 4,
  "nbformat_minor": 0,
  "metadata": {
    "colab": {
      "provenance": [],
      "authorship_tag": "ABX9TyN1sohrOP/hYldMf9u7zoEX",
      "include_colab_link": true
    },
    "kernelspec": {
      "name": "python3",
      "display_name": "Python 3"
    },
    "language_info": {
      "name": "python"
    }
  },
  "cells": [
    {
      "cell_type": "markdown",
      "metadata": {
        "id": "view-in-github",
        "colab_type": "text"
      },
      "source": [
        "<a href=\"https://colab.research.google.com/github/Vhyvean/alx-pre_course/blob/master/Copy_of_Student_Bio.ipynb\" target=\"_parent\"><img src=\"https://colab.research.google.com/assets/colab-badge.svg\" alt=\"Open In Colab\"/></a>"
      ]
    },
    {
      "cell_type": "code",
      "execution_count": null,
      "metadata": {
        "id": "jG64Z4jBVykH",
        "colab": {
          "base_uri": "https://localhost:8080/"
        },
        "outputId": "973df6e8-f827-4ee8-cdb9-b6f73de61f47"
      },
      "outputs": [
        {
          "output_type": "stream",
          "name": "stdout",
          "text": [
            "Original dictionary: {'name': 'Alice', 'age': 21, 'major': 'Data Science'}\n",
            "Name: Alice\n",
            "Keys: dict_keys(['name', 'age', 'major'])\n",
            "Values: dict_values(['Alice', 21, 'Data Science'])\n",
            "Updated dictionary: {'name': 'Alice', 'age': 22, 'major': 'Data Science', 'graduation_year': 2025}\n"
          ]
        }
      ],
      "source": [
        "student = {\n",
        "    \"name\": \"Alice\",\n",
        "    \"age\": 21,\n",
        "    \"major\": \"Data Science\"\n",
        "}\n",
        "print(\"Original dictionary:\", student)\n",
        "print(\"Name:\", student[\"name\"])\n",
        "print(\"Keys:\", student.keys())\n",
        "print(\"Values:\", student.values())\n",
        "student.update({\"age\": 22})\n",
        "student.update({\"graduation_year\": 2025})\n",
        "print(\"Updated dictionary:\", student)"
      ]
    }
  ]
}