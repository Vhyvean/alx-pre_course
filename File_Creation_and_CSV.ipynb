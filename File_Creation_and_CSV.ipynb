{
  "nbformat": 4,
  "nbformat_minor": 0,
  "metadata": {
    "colab": {
      "provenance": [],
      "authorship_tag": "ABX9TyOFtWwpOdt6pbggD4cKcqBa",
      "include_colab_link": true
    },
    "kernelspec": {
      "name": "python3",
      "display_name": "Python 3"
    },
    "language_info": {
      "name": "python"
    }
  },
  "cells": [
    {
      "cell_type": "markdown",
      "metadata": {
        "id": "view-in-github",
        "colab_type": "text"
      },
      "source": [
        "<a href=\"https://colab.research.google.com/github/Vhyvean/alx-pre_course/blob/master/File_Creation_and_CSV.ipynb\" target=\"_parent\"><img src=\"https://colab.research.google.com/assets/colab-badge.svg\" alt=\"Open In Colab\"/></a>"
      ]
    },
    {
      "cell_type": "code",
      "execution_count": 1,
      "metadata": {
        "colab": {
          "base_uri": "https://localhost:8080/"
        },
        "id": "vzMD3qpmqz1o",
        "outputId": "bbee90f2-94ca-4a79-bc91-438653f930a7"
      },
      "outputs": [
        {
          "output_type": "stream",
          "name": "stdout",
          "text": [
            "File Contents: Name: Vivian\n",
            "Age: 25\n",
            "\n",
            "Updated File Contents: Name: Vivian\n",
            "Age: 25\n",
            "Hobby: Watching Movies\n",
            "\n",
            "CSV Data:\n",
            "[('Alice', 30, 'New York') ('Bob', 25, 'Los Angeles')\n",
            " ('Charlie', 35, 'Chicago')]\n"
          ]
        }
      ],
      "source": [
        "import numpy as np\n",
        "\n",
        "# 1. Create a text file and write name and age\n",
        "with open(\"info.txt\", \"w\") as file:\n",
        "  file.write(\"Name: Vivian\\nAge: 25\")\n",
        "\n",
        "# 2. Read the file and print its content\n",
        "with open(\"info.txt\", \"r\") as file:\n",
        "  contents = file.read()\n",
        "  print(\"File Contents:\", contents)\n",
        "\n",
        "# 3. Append a new line with favourite hobby\n",
        "with open(\"info.txt\", \"a\") as file:\n",
        "  file.write(\"\\nHobby: Watching Movies\")\n",
        "\n",
        "# Confirm update\n",
        "with open(\"info.txt\", \"r\") as file:\n",
        "  updated_contents = file.read()\n",
        "  print(\"\\nUpdated File Contents:\", updated_contents)\n",
        "\n",
        "# 4. Create a CSV file with sample data\n",
        "csv_content = \"\"\"Name,Age,City\n",
        "Alice,30,New York\n",
        "Bob,25,Los Angeles\n",
        "Charlie,35,Chicago\n",
        "\"\"\"\n",
        "\n",
        "with open(\"people.csv\", \"w\") as csv_file:\n",
        "  csv_file.write(csv_content)\n",
        "\n",
        "# 5. Read the CSV file using numpy.genfromtxt() and print the data\n",
        "data = np.genfromtxt(\"people.csv\", delimiter=\",\", dtype=None, encoding=\"utf-8\", names=True)\n",
        "print(\"\\nCSV Data:\")\n",
        "print(data)\n",
        "\n",
        "\n",
        "\n",
        "\n",
        "\n",
        "\n",
        "\n",
        "\n",
        "\n"
      ]
    }
  ]
}