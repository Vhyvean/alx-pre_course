{
  "nbformat": 4,
  "nbformat_minor": 0,
  "metadata": {
    "colab": {
      "provenance": [],
      "authorship_tag": "ABX9TyOd6XBUasnGZc2T8np5f0qE",
      "include_colab_link": true
    },
    "kernelspec": {
      "name": "python3",
      "display_name": "Python 3"
    },
    "language_info": {
      "name": "python"
    }
  },
  "cells": [
    {
      "cell_type": "markdown",
      "metadata": {
        "id": "view-in-github",
        "colab_type": "text"
      },
      "source": [
        "<a href=\"https://colab.research.google.com/github/Vhyvean/alx-pre_course/blob/master/OOP_Player_exercise.ipynb\" target=\"_parent\"><img src=\"https://colab.research.google.com/assets/colab-badge.svg\" alt=\"Open In Colab\"/></a>"
      ]
    },
    {
      "cell_type": "code",
      "execution_count": 3,
      "metadata": {
        "colab": {
          "base_uri": "https://localhost:8080/"
        },
        "id": "k7l3nLFP6wnc",
        "outputId": "4d74c873-ce1f-4f65-c09f-650c7560ffd9"
      },
      "outputs": [
        {
          "output_type": "stream",
          "name": "stdout",
          "text": [
            "Player: Vivian, HP: 80\n"
          ]
        }
      ],
      "source": [
        "# Define a class named Player\n",
        "class Player:\n",
        "    def __init__(self, name):\n",
        "        self.name = name  # Assign the player's name\n",
        "        self.hp = 100  # Initialize the player's hit points (HP) to 100\n",
        "\n",
        "    # Define a method to reduce player's HP when they take damage\n",
        "    def take_damage(self, damage):\n",
        "        # Subtract damage from hp, but ensure hp does not go below 0 using max()\n",
        "        self.hp = max(0, self.hp - damage)\n",
        "\n",
        "    # Special method to define how the player object should be displayed when printed\n",
        "    def __str__(self):\n",
        "        return f\"Player: {self.name}, HP: {self.hp}\"\n",
        "\n",
        "\n",
        "# --- Example Usage ---\n",
        "\n",
        "# Create a player object named \"Vivian\"\n",
        "player = Player(\"Vivian\")\n",
        "\n",
        "# Make the player take 20 points of damage\n",
        "player.take_damage(20)\n",
        "\n",
        "# Print the player's details (this authomatically calls __str__ method)\n",
        "print(player)"
      ]
    }
  ]
}