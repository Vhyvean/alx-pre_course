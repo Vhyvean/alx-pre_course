{
  "nbformat": 4,
  "nbformat_minor": 0,
  "metadata": {
    "colab": {
      "provenance": [],
      "authorship_tag": "ABX9TyOLYdbZhx4VUDIUm4HERm8q",
      "include_colab_link": true
    },
    "kernelspec": {
      "name": "python3",
      "display_name": "Python 3"
    },
    "language_info": {
      "name": "python"
    }
  },
  "cells": [
    {
      "cell_type": "markdown",
      "metadata": {
        "id": "view-in-github",
        "colab_type": "text"
      },
      "source": [
        "<a href=\"https://colab.research.google.com/github/Vhyvean/alx-pre_course/blob/master/Python_Algorithm_Project.ipynb\" target=\"_parent\"><img src=\"https://colab.research.google.com/assets/colab-badge.svg\" alt=\"Open In Colab\"/></a>"
      ]
    },
    {
      "cell_type": "code",
      "execution_count": 2,
      "metadata": {
        "colab": {
          "base_uri": "https://localhost:8080/"
        },
        "id": "W7AXW08CKFCj",
        "outputId": "a2e180de-da28-421b-a200-4ab5a13c0c87"
      },
      "outputs": [
        {
          "output_type": "stream",
          "name": "stdout",
          "text": [
            "Binary Search Tests:\n",
            "False\n",
            "True\n",
            "------------------------------\n",
            "\n",
            "Power Function Test:\n",
            "81\n",
            "------------------------------\n",
            "\n",
            "Bubble Sort Test:\n",
            "[13, 22, 29, 37, 46, 49, 52, 56, 71]\n",
            "------------------------------\n",
            "\n",
            "Merge Sort Test:\n",
            "[13, 22, 29, 37, 46, 49, 52, 56, 71]\n",
            "------------------------------\n",
            "\n",
            "Quick Sort Test:\n",
            "[13, 22, 29, 37, 46, 49, 52, 56, 71]\n"
          ]
        }
      ],
      "source": [
        "# ============================\n",
        "# Vivian's Python Algorithm Collection\n",
        "# =============================\n",
        "\n",
        "# 1. Binary Search\n",
        "# Define a function that takes a sorted list and a target value\n",
        "def binary_search(lst, target):\n",
        "  low = 0   # Set the starting index\n",
        "  high = len(lst) - 1   # Set the ending index\n",
        "  while low <= high:    # Continue searching while the search range is valid\n",
        "    mid = (low + high) // 2   # Find the middle index by dividing range by 2\n",
        "    if lst[mid] == target:   # If the middle element matches the target\n",
        "      return True            # Target found, return True\n",
        "    elif lst[mid] < target:  # If target is larger than middle element\n",
        "      low = mid + 1          # Move the search to the right half\n",
        "    else:      # Otherwise, target is smaller than middle element\n",
        "      high = mid - 1   # Move the search to the left half\n",
        "  return False      # If loop ends, target was not found\n",
        "\n",
        "print(\"Binary Search Tests:\")\n",
        "print(binary_search([1, 2, 3, 5, 8], 6))  # Should print false because 6 is not in the list\n",
        "print(binary_search([1, 2, 3, 5, 8], 5))  # Should print true because 5 is in the list\n",
        "print(\"------------------------------\\n\")\n",
        "\n",
        "\n",
        "# 2. Power Function\n",
        "# Define a function that calculates a to the power of b\n",
        "def power(a, b):\n",
        "  result = 1  # Start with result = 1\n",
        "  for _ in range(b):  # Repeat the process b times\n",
        "    result *= a       # Multiply result by a each time\n",
        "  return result       # Return final value after loop\n",
        "\n",
        "print(\"Power Function Test:\")\n",
        "print(power(3, 4))\n",
        "print(\"------------------------------\\n\")\n",
        "\n",
        "\n",
        "# 3. Bubble Sort\n",
        "def bubble_sort(lst):\n",
        "  n = len(lst)   # Get the total number of elements in the list\n",
        "  for i in range(n):   # Outer loop for each pass through the list\n",
        "    for j in range(0, n-i-1):  # Inner loop compares each adjacent element\n",
        "      if lst[j] > lst[j+1]:   # If the current element is greater than the next one\n",
        "        lst[j], lst[j+1] = lst[j+1], lst[j]  # Swap their positions\n",
        "  return lst                   # Return the sorted list\n",
        "\n",
        "print(\"Bubble Sort Test:\")\n",
        "data = [29, 13, 22, 37, 52, 49, 46, 71, 56]\n",
        "print(bubble_sort(data))\n",
        "print(\"------------------------------\\n\")\n",
        "\n",
        "\n",
        "# 4. Merge Sort\n",
        "def merge_sort(lst):\n",
        "  if len(lst) <= 1:  #bIf the list has one or no elements, it's already sorted\n",
        "    return lst       # Return list as is\n",
        "  mid = len(lst) // 2  # Find the middle point to divide the list\n",
        "  left = merge_sort(lst[:mid])  # Recursively sort the left half\n",
        "  right = merge_sort(lst[mid:]) # Recursively sort the right half\n",
        "  return merge(left, right)   # Merge both sorted halves into a single sorted list\n",
        "\n",
        "def merge(left, right):  # Define a helper function to merge two sorted lists\n",
        "  result = []            # Create an empty list to hold merged elements\n",
        "  i = j = 0      # Set starting indexes for left and half lists\n",
        "  while i < len(left) and j < len(right):  # Compare elements from both lists until one is done\n",
        "    if left[i] < right[j]:   # If the element in the left list is smaller\n",
        "      result.append(left[i]) # Add it to the result list\n",
        "      i += 1                 # Move to the next elment in the left list\n",
        "    else:  # Otherwise the element in the right lis is smaller or equal\n",
        "      result.append(right[j])  # Add it to the result list\n",
        "      j += 1   # Move to the next element in the right list\n",
        "\n",
        "  result.extend(left[i:])  # Add any remaining elements from the left list\n",
        "  result.extend(right[j:]) # Add any remaining elements from the right list\n",
        "  return result    # Return the fully merged and sorted list\n",
        "\n",
        "print(\"Merge Sort Test:\")\n",
        "data = [29, 13, 22, 37, 52, 49, 46, 71, 56]\n",
        "print(merge_sort(data))\n",
        "print(\"------------------------------\\n\")\n",
        "\n",
        "\n",
        "# 5. Quick Sort\n",
        "def quick_sort(lst):\n",
        "  if len(lst) <= 1:  # Base case: if the list has 1 or 0 elements, return it\n",
        "    return lst       # Return as it's already sorted\n",
        "  else:\n",
        "    pivot = lst[0]  # Choose the first element as the pivot\n",
        "    less = [x for x in lst[1:] if x <= pivot]  # Create a list of elements smaller than pivot\n",
        "    greater = [x for x in lst[1:] if x > pivot]  # Create a list of elements greater than pivot\n",
        "    return quick_sort(less) + [pivot] + quick_sort(greater) # Combine sorted parts\n",
        "\n",
        "print(\"Quick Sort Test:\")\n",
        "data = [29, 13, 22, 37, 52, 49, 46, 71, 56]\n",
        "print(quick_sort(data))"
      ]
    }
  ]
}