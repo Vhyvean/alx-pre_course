{
  "nbformat": 4,
  "nbformat_minor": 0,
  "metadata": {
    "colab": {
      "provenance": [],
      "authorship_tag": "ABX9TyMVe8aou2gvFPFoUYGq5DEo",
      "include_colab_link": true
    },
    "kernelspec": {
      "name": "python3",
      "display_name": "Python 3"
    },
    "language_info": {
      "name": "python"
    }
  },
  "cells": [
    {
      "cell_type": "markdown",
      "metadata": {
        "id": "view-in-github",
        "colab_type": "text"
      },
      "source": [
        "<a href=\"https://colab.research.google.com/github/Vhyvean/alx-pre_course/blob/master/Class_Work_On_Score_and_Grade.ipynb\" target=\"_parent\"><img src=\"https://colab.research.google.com/assets/colab-badge.svg\" alt=\"Open In Colab\"/></a>"
      ]
    },
    {
      "cell_type": "code",
      "execution_count": 7,
      "metadata": {
        "colab": {
          "base_uri": "https://localhost:8080/"
        },
        "id": "sFwa_m4rxYd6",
        "outputId": "6af218fd-0486-49ed-ba68-ad511970fe28"
      },
      "outputs": [
        {
          "output_type": "stream",
          "name": "stdout",
          "text": [
            "Please enter your score: 79\n",
            "Your grade is A\n"
          ]
        }
      ],
      "source": [
        "score = int(input(\"Please enter your score: \"))\n",
        "if score >= 70:\n",
        "    print(\"Your grade is A\")\n",
        "elif score >= 60:\n",
        "    print(\"Your grade is B\")\n",
        "elif score >= 50:\n",
        "    print(\"Your grade is C\")\n",
        "elif score >= 40:\n",
        "    print(\"Your grade is D\")\n",
        "elif score >= 30:\n",
        "    print(\"Your grade is E\")\n",
        "else:\n",
        "    print(\"Your grade is F\")\n",
        "\n"
      ]
    }
  ]
}