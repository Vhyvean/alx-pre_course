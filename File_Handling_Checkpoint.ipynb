{
  "nbformat": 4,
  "nbformat_minor": 0,
  "metadata": {
    "colab": {
      "provenance": [],
      "authorship_tag": "ABX9TyP2kyo1ASC2o+F86Hz109Ns",
      "include_colab_link": true
    },
    "kernelspec": {
      "name": "python3",
      "display_name": "Python 3"
    },
    "language_info": {
      "name": "python"
    }
  },
  "cells": [
    {
      "cell_type": "markdown",
      "metadata": {
        "id": "view-in-github",
        "colab_type": "text"
      },
      "source": [
        "<a href=\"https://colab.research.google.com/github/Vhyvean/alx-pre_course/blob/master/File_Handling_Checkpoint.ipynb\" target=\"_parent\"><img src=\"https://colab.research.google.com/assets/colab-badge.svg\" alt=\"Open In Colab\"/></a>"
      ]
    },
    {
      "cell_type": "code",
      "execution_count": 5,
      "metadata": {
        "colab": {
          "base_uri": "https://localhost:8080/"
        },
        "id": "oBNDgF5SmA8C",
        "outputId": "8a4bddbb-7428-4cd1-ea0c-c31585e10b27"
      },
      "outputs": [
        {
          "output_type": "stream",
          "name": "stdout",
          "text": [
            "Mean Loan Amount: 141.13029315960912\n",
            "Median Loan Amount: 125.0\n",
            "Standard Deviation of Loan Amounts: 88.32614252677395\n"
          ]
        }
      ],
      "source": [
        "import numpy as np\n",
        "\n",
        "# 1. Open the CSV file named \"Loans.csv\" in read \"r\" mode\n",
        "file = open(\"Loans.csv\", \"r\")\n",
        "\n",
        "# 2. Read the data from the CSV file into a NumPy array\n",
        "data = np.genfromtxt(\n",
        "    file,            # The file object to read from\n",
        "    delimiter=\",\",   # Tells NumPy that values are seperated by commas\n",
        "    dtype=None,      # Automically detects the data type for each column\n",
        "    encoding=\"utf-8\",# Ensures that text is properly decoded\n",
        "    names=True       # Uses the first row as column names\n",
        ")\n",
        "\n",
        "# 3. Close the file after reading to free up system resources\n",
        "file.close()\n",
        "\n",
        "# 4. Extract the LoanAmount column\n",
        "loan_amounts = data[\"LoanAmount\"]\n",
        "\n",
        "# 5. Calculate the Mean loan amount\n",
        "mean = np.mean(loan_amounts)\n",
        "\n",
        "# 6. Calculate the Median loan amount\n",
        "median = np.median(loan_amounts)\n",
        "\n",
        "# 7. Calculate the Standard Deviation of loan amounts\n",
        "std_dev = np.std(loan_amounts)\n",
        "\n",
        "# 8. Print the calculated statistical values\n",
        "print(\"Mean Loan Amount:\", mean)\n",
        "print(\"Median Loan Amount:\", median)\n",
        "print(\"Standard Deviation of Loan Amounts:\", std_dev)\n",
        "\n",
        "\n",
        "\n",
        "\n",
        "\n",
        "\n",
        "\n",
        "\n",
        "\n",
        "\n",
        "\n",
        "\n",
        "\n",
        "\n"
      ]
    }
  ]
}