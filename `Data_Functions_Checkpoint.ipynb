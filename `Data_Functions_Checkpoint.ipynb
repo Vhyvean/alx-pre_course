{
  "nbformat": 4,
  "nbformat_minor": 0,
  "metadata": {
    "colab": {
      "provenance": [],
      "authorship_tag": "ABX9TyOiqIljwga9BD3puB9TivZI",
      "include_colab_link": true
    },
    "kernelspec": {
      "name": "python3",
      "display_name": "Python 3"
    },
    "language_info": {
      "name": "python"
    }
  },
  "cells": [
    {
      "cell_type": "markdown",
      "metadata": {
        "id": "view-in-github",
        "colab_type": "text"
      },
      "source": [
        "<a href=\"https://colab.research.google.com/github/Vhyvean/alx-pre_course/blob/master/%60Data_Functions_Checkpoint.ipynb\" target=\"_parent\"><img src=\"https://colab.research.google.com/assets/colab-badge.svg\" alt=\"Open In Colab\"/></a>"
      ]
    },
    {
      "cell_type": "code",
      "execution_count": 4,
      "metadata": {
        "colab": {
          "base_uri": "https://localhost:8080/"
        },
        "id": "viZdBa8BX_FK",
        "outputId": "02f6bae0-78b5-45e3-a349-f5d5eee40a2c"
      },
      "outputs": [
        {
          "output_type": "stream",
          "name": "stdout",
          "text": [
            "Enter first number: 10\n",
            "Enter second number: 50\n",
            "Enter operator (+, -, *, /): +\n",
            "Result: 60.0\n",
            "Enter first number: 46.4\n",
            "Enter second number: 25\n",
            "Enter operator (+, -, *, /): *\n",
            "Result: 1160.0\n",
            "Enter first number: 17\n",
            "Enter second number: 12\n",
            "Enter operator (+, -, *, /): -\n",
            "Result: 5.0\n",
            "Enter first number: 0\n",
            "Enter second number: 0\n",
            "Enter operator (+, -, *, /): /\n",
            "Result: Error: Division by zero\n",
            "Enter first number: &\n",
            "Invalid input. Please enter valid numbers.\n",
            "Do you want to perform another calculation? (yes/no): no\n",
            "Thank you for using the calculator. Goodbye!\n"
          ]
        }
      ],
      "source": [
        "def calculator(num1, num2): # Define a function called calculator that takes two numbers as input\n",
        "  operator = input(\"Enter operator (+, -, *, /): \") # Ask the user to enter an operator\n",
        "\n",
        "  if operator == \"+\": # If operator is addition\n",
        "    return num1 + num2 # Return sum of the two numbers\n",
        "  elif operator == \"-\": # If operator is subtraction\n",
        "    return num1 - num2 # Return difference\n",
        "  elif operator == \"*\": # If operator is multiplication\n",
        "    return num1 * num2 # Return product\n",
        "  elif operator == \"/\": # If operator is division\n",
        "    if num2 == 0: # Prevent division by zero\n",
        "      return \"Error: Division by zero\" # Return error message\n",
        "    else:\n",
        "      return num1 / num2 # Return Quotient\n",
        "  else: # If operator is not valid\n",
        "    return \"Invalid operator!\" # Return invalid operator message\n",
        "\n",
        "while True: # Loop to allow multiple calculations\n",
        "  try:\n",
        "    num1 = float(input(\"Enter first number: \")) # Get first number from user\n",
        "    num2 = float(input(\"Enter second number: \")) # Get second number from user\n",
        "\n",
        "    result = calculator(num1, num2) # Call calculator function\n",
        "    print(\"Result:\", result) # Print the result\n",
        "\n",
        "  except ValueError: # Handle when input is not a number\n",
        "    print(\"Invalid input. Please enter valid numbers.\") # Show error message\n",
        "\n",
        "    another_calculation = input(\"Do you want to perform another calculation? (yes/no): \") # Ask if user wants another calculation\n",
        "    if another_calculation.lower() != \"yes\": # If user types anything other than \"yes\"\n",
        "      print(\"Thank you for using the calculator. Goodbye!\") # Print goodbye message\n",
        "      break # Exit the loop"
      ]
    }
  ]
}