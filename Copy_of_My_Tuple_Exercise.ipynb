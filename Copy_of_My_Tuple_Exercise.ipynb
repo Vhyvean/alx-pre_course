{
  "nbformat": 4,
  "nbformat_minor": 0,
  "metadata": {
    "colab": {
      "provenance": [],
      "authorship_tag": "ABX9TyM2pMQJb69WZiL1YL7CsX7S",
      "include_colab_link": true
    },
    "kernelspec": {
      "name": "python3",
      "display_name": "Python 3"
    },
    "language_info": {
      "name": "python"
    }
  },
  "cells": [
    {
      "cell_type": "markdown",
      "metadata": {
        "id": "view-in-github",
        "colab_type": "text"
      },
      "source": [
        "<a href=\"https://colab.research.google.com/github/Vhyvean/alx-pre_course/blob/master/Copy_of_My_Tuple_Exercise.ipynb\" target=\"_parent\"><img src=\"https://colab.research.google.com/assets/colab-badge.svg\" alt=\"Open In Colab\"/></a>"
      ]
    },
    {
      "cell_type": "code",
      "execution_count": null,
      "metadata": {
        "colab": {
          "base_uri": "https://localhost:8080/"
        },
        "id": "HAAJ7yRh0pOP",
        "outputId": "7ade35d1-36c7-4fde-bb47-28254ac23c3a"
      },
      "outputs": [
        {
          "output_type": "stream",
          "name": "stdout",
          "text": [
            "Original Tuple: (1, 2, 3)\n",
            "Modified Tuple: (1, 2, 3, 4)\n"
          ]
        }
      ],
      "source": [
        "my_tuple = (1, 2, 3)\n",
        "print(\"Original Tuple:\", my_tuple)\n",
        "element = 4\n",
        "temp_list = list(my_tuple)\n",
        "temp_list.append(element)\n",
        "my_tuple = tuple(temp_list)\n",
        "print(\"Modified Tuple:\", my_tuple)"
      ]
    }
  ]
}