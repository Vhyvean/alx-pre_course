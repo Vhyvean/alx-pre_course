{
  "nbformat": 4,
  "nbformat_minor": 0,
  "metadata": {
    "colab": {
      "provenance": [],
      "authorship_tag": "ABX9TyMt8oA4b+7RcE6amZ39CmpE",
      "include_colab_link": true
    },
    "kernelspec": {
      "name": "python3",
      "display_name": "Python 3"
    },
    "language_info": {
      "name": "python"
    }
  },
  "cells": [
    {
      "cell_type": "markdown",
      "metadata": {
        "id": "view-in-github",
        "colab_type": "text"
      },
      "source": [
        "<a href=\"https://colab.research.google.com/github/Vhyvean/alx-pre_course/blob/master/NumPy_Array_Exercise3.ipynb\" target=\"_parent\"><img src=\"https://colab.research.google.com/assets/colab-badge.svg\" alt=\"Open In Colab\"/></a>"
      ]
    },
    {
      "cell_type": "code",
      "execution_count": 1,
      "metadata": {
        "colab": {
          "base_uri": "https://localhost:8080/"
        },
        "id": "YPQDv-8YWBOY",
        "outputId": "70fa8705-f27b-431d-e892-b3bc2a883290"
      },
      "outputs": [
        {
          "output_type": "stream",
          "name": "stdout",
          "text": [
            "1D Arrays:\n",
            "Empty: [          682016328                   0                   0\n",
            "                   0     132078834286592 3690752917652058164\n",
            " 7220445817653900077 3258415234736284723 7305454541978285154\n",
            "     284185929606195]\n",
            "Zeros: [0 0 0 0 0 0 0 0 0 0]\n",
            "Ones: [1 1 1 1 1 1 1 1 1 1]\n",
            "Twos: [2 2 2 2 2 2 2 2 2 2]\n",
            "\n",
            "2D Arrays:\n",
            "Empty 2x4:\n",
            " [[679721405         0         0         0]\n",
            " [        0         0         0         0]]\n",
            "Zeros 2x4:\n",
            " [[0 0 0 0]\n",
            " [0 0 0 0]]\n",
            "Ones 2x4:\n",
            " [[1 1 1 1]\n",
            " [1 1 1 1]]\n",
            "Twos 2x4:\n",
            " [[2. 2. 2. 2.]\n",
            " [2. 2. 2. 2.]]\n"
          ]
        }
      ],
      "source": [
        "import numpy as np\n",
        "\n",
        "# First set: 1D arrays of 10\n",
        "# 1. \"Empty\" array (uninitialized values)\n",
        "arr1 = np.empty(10, dtype=int)\n",
        "\n",
        "# 2. Full of zeros (Using multiplication)\n",
        "arr2 = np.arange(10) * 0\n",
        "\n",
        "# 3. Full of 1s (Using boolean to int)\n",
        "arr3 = (np.arange(10) >= 0).astype(int)\n",
        "\n",
        "# 4. Full of 2s (Repeat a value)\n",
        "arr4 = np.repeat(2, 10)\n",
        "\n",
        "print(\"1D Arrays:\")\n",
        "print(\"Empty:\", arr1)\n",
        "print(\"Zeros:\", arr2)\n",
        "print(\"Ones:\", arr3)\n",
        "print(\"Twos:\", arr4)\n",
        "\n",
        "\n",
        "# Second set: 2D arrays (2x4)\n",
        "# 1. Empty 2x4\n",
        "arr5 = np.empty((2, 4), dtype=int)\n",
        "\n",
        "# 2. Full of 0s (tile trick)\n",
        "arr6 = np.tile(0, (2,4))\n",
        "\n",
        "# 3. Full of 1s (Using boolean again)\n",
        "arr7 = (np.arange(8).reshape(2,4) >= 0).astype(int)\n",
        "\n",
        "# 4. Full of 2s (Using full_like with constant array)\n",
        "arr8 = np.full_like(np.ones((2,4)), 2)\n",
        "\n",
        "print(\"\\n2D Arrays:\")\n",
        "print(\"Empty 2x4:\\n\", arr5)\n",
        "print(\"Zeros 2x4:\\n\", arr6)\n",
        "print(\"Ones 2x4:\\n\", arr7)\n",
        "print(\"Twos 2x4:\\n\", arr8)\n",
        "\n",
        "\n",
        "\n",
        "\n",
        "\n",
        "\n",
        "\n",
        "\n",
        "\n",
        "\n",
        "\n",
        "\n",
        "\n",
        "\n"
      ]
    }
  ]
}