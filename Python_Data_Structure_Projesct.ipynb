{
  "nbformat": 4,
  "nbformat_minor": 0,
  "metadata": {
    "colab": {
      "provenance": [],
      "authorship_tag": "ABX9TyPhqUB3O7igaivxsB6bSTfx",
      "include_colab_link": true
    },
    "kernelspec": {
      "name": "python3",
      "display_name": "Python 3"
    },
    "language_info": {
      "name": "python"
    }
  },
  "cells": [
    {
      "cell_type": "markdown",
      "metadata": {
        "id": "view-in-github",
        "colab_type": "text"
      },
      "source": [
        "<a href=\"https://colab.research.google.com/github/Vhyvean/alx-pre_course/blob/master/Python_Data_Structure_Projesct.ipynb\" target=\"_parent\"><img src=\"https://colab.research.google.com/assets/colab-badge.svg\" alt=\"Open In Colab\"/></a>"
      ]
    },
    {
      "cell_type": "code",
      "execution_count": 1,
      "metadata": {
        "colab": {
          "base_uri": "https://localhost:8080/"
        },
        "id": "jiGunzAeNcbk",
        "outputId": "fc4d9f15-1607-424a-87f9-c6815571d94c"
      },
      "outputs": [
        {
          "output_type": "stream",
          "name": "stdout",
          "text": [
            "Q1 Result = 2\n",
            "Q1 Result = 6\n",
            "Q1 Result = 36\n",
            "Q2 Sorted List: [(2, 1), (1, 2), (2, 3), (4, 4), (2, 5)]\n",
            "Q3 Combined Dictionary: {'a': 400, 'b': 400, 'c': 300, 'd': 400}\n",
            "Q4 Generated Dictionary: {1: 1, 2: 4, 3: 9, 4: 16, 5: 25, 6: 36, 7: 49, 8: 64}\n",
            "Q5 Sorted Tuple List: [('item3', '24.5'), ('item2', '15.10'), ('item1', '12.20')]\n",
            "Q6 Original set: {0, 1, 2, 3, 4}\n",
            "Iterating over set:\n",
            "0\n",
            "1\n",
            "2\n",
            "3\n",
            "4\n",
            "After adding 5: {0, 1, 2, 3, 4, 5}\n",
            "After removing 3: {0, 1, 2, 4, 5}\n"
          ]
        }
      ],
      "source": [
        "# Question 1\n",
        "# Multiply all items in a list\n",
        "\n",
        "sample_list = [2, 3, 6]\n",
        "result = 1\n",
        "for num in sample_list:\n",
        "  result *= num\n",
        "  print(\"Q1 Result =\", result)\n",
        "\n",
        "# Question 2\n",
        "# Sort list of tuples by last element\n",
        "\n",
        "smaple_list = [(2, 5), (1, 2), (4, 4), (2, 3), (2, 1)]\n",
        "result = sorted(smaple_list, key=lambda x: x[1])\n",
        "print(\"Q2 Sorted List:\", result)\n",
        "\n",
        "# Question 3\n",
        "# Combine two dictionaries by adding values for common keys\n",
        "\n",
        "d1 = {'a': 100, 'b': 200, 'c': 300}\n",
        "d2 = {'a': 300, 'b': 200, 'd': 400}\n",
        "result = d1.copy()\n",
        "for key, value in d2.items():\n",
        "  result[key] = result.get(key, 0) + value\n",
        "print(\"Q3 Combined Dictionary:\", result)\n",
        "\n",
        "# Question 4\n",
        "# Generate dictionary of numbers and squares\n",
        "\n",
        "n = 8\n",
        "result = {i: i*i for i in range(1, n+1)}\n",
        "print(\"Q4 Generated Dictionary:\", result)\n",
        "\n",
        "# Question 5\n",
        "# Sort tuple list by float element\n",
        "\n",
        "sample_list = [('item1', '12.20'), ('item2', '15.10'), ('item3', '24.5')]\n",
        "result = sorted(sample_list, key=lambda x: float(x[1]), reverse=True)\n",
        "print(\"Q5 Sorted Tuple List:\", result)\n",
        "\n",
        "# Question 6\n",
        "# Work with sets\n",
        "\n",
        "my_set = {0, 1, 2, 3, 4}\n",
        "print(\"Q6 Original set:\", my_set)\n",
        "print(\"Iterating over set:\")\n",
        "for item in my_set:\n",
        "  print(item)\n",
        "my_set.add(5)\n",
        "print(\"After adding 5:\", my_set)\n",
        "my_set.remove(3)\n",
        "print(\"After removing 3:\", my_set)\n"
      ]
    }
  ]
}