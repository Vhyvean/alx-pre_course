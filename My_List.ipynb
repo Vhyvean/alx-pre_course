{
  "nbformat": 4,
  "nbformat_minor": 0,
  "metadata": {
    "colab": {
      "provenance": [],
      "authorship_tag": "ABX9TyOLw3Zcuy1SOlQcxQ478byU",
      "include_colab_link": true
    },
    "kernelspec": {
      "name": "python3",
      "display_name": "Python 3"
    },
    "language_info": {
      "name": "python"
    }
  },
  "cells": [
    {
      "cell_type": "markdown",
      "metadata": {
        "id": "view-in-github",
        "colab_type": "text"
      },
      "source": [
        "<a href=\"https://colab.research.google.com/github/Vhyvean/alx-pre_course/blob/master/My_List.ipynb\" target=\"_parent\"><img src=\"https://colab.research.google.com/assets/colab-badge.svg\" alt=\"Open In Colab\"/></a>"
      ]
    },
    {
      "cell_type": "code",
      "execution_count": 15,
      "metadata": {
        "id": "jG64Z4jBVykH",
        "colab": {
          "base_uri": "https://localhost:8080/"
        },
        "outputId": "15c3a8e4-8438-4ac2-e4cc-38259effd405"
      },
      "outputs": [
        {
          "output_type": "stream",
          "name": "stdout",
          "text": [
            "Original List: [17, 38, 10, 25, 72]\n",
            "Sorted List: [10, 17, 25, 38, 72]\n",
            "List after adding 12: [10, 17, 25, 38, 72, 12]\n",
            "Reversed List: [12, 72, 38, 25, 17, 10]\n",
            "Index of 17: 4\n",
            "List after removing 38: [12, 72, 25, 17, 10]\n",
            "Sublist (2nd to 3rd element): [72, 25]\n",
            "Sublist (beginning to 2nd element): [12, 72]\n",
            "Sublist (3rd element to end): [25, 17, 10]\n",
            "Complete sublist: [12, 72, 25, 17, 10]\n",
            "Last element: 10\n"
          ]
        }
      ],
      "source": [
        "my_list = [17,38,10,25,72]\n",
        "print(\"Original List:\", my_list)\n",
        "my_list.sort()\n",
        "print(\"Sorted List:\", my_list)\n",
        "my_list.append(12)\n",
        "print(\"List after adding 12:\", my_list)\n",
        "my_list.reverse()\n",
        "print(\"Reversed List:\", my_list)\n",
        "print(\"Index of 17:\", my_list.index(17))\n",
        "my_list.remove(38)\n",
        "print(\"List after removing 38:\", my_list)\n",
        "print(\"Sublist (2nd to 3rd element):\", my_list[1:3])\n",
        "print(\"Sublist (beginning to 2nd element):\", my_list[:2])\n",
        "print(\"Sublist (3rd element to end):\", my_list[2:])\n",
        "print(\"Complete sublist:\", my_list[:])\n",
        "print(\"Last element:\", my_list[-1])"
      ]
    }
  ]
}