{
  "nbformat": 4,
  "nbformat_minor": 0,
  "metadata": {
    "colab": {
      "provenance": [],
      "authorship_tag": "ABX9TyPHU5QXnmBgjEAQb+2ZZSrd",
      "include_colab_link": true
    },
    "kernelspec": {
      "name": "python3",
      "display_name": "Python 3"
    },
    "language_info": {
      "name": "python"
    }
  },
  "cells": [
    {
      "cell_type": "markdown",
      "metadata": {
        "id": "view-in-github",
        "colab_type": "text"
      },
      "source": [
        "<a href=\"https://colab.research.google.com/github/Vhyvean/alx-pre_course/blob/master/Array_Exercise.ipynb\" target=\"_parent\"><img src=\"https://colab.research.google.com/assets/colab-badge.svg\" alt=\"Open In Colab\"/></a>"
      ]
    },
    {
      "cell_type": "code",
      "execution_count": 1,
      "metadata": {
        "colab": {
          "base_uri": "https://localhost:8080/"
        },
        "id": "GT0bqq6cuTI-",
        "outputId": "a42ea150-77d7-42b4-b03d-fad2c8209a61"
      },
      "outputs": [
        {
          "output_type": "stream",
          "name": "stdout",
          "text": [
            "First element of array_1D: 10\n",
            "First element of array_2D: [20 30 40 50 60]\n",
            "First element of array_3D: [[ 1  2  3  4  5]\n",
            " [11 21 31 41 51]]\n",
            "First individual element of array_1D: 10\n",
            "First individual element of array_2D: 20\n",
            "First individual element of array_3D: 1\n",
            "Last element of array_1D: 14\n",
            "Last element of array_2D: 55\n",
            "Last element of array_3D: 5\n"
          ]
        }
      ],
      "source": [
        "import numpy as np\n",
        "\n",
        "# Define the arrays\n",
        "\n",
        "# 1D Array\n",
        "array_1D = np.array([10, 11, 12, 13, 14 ])\n",
        "\n",
        "# 2D Array\n",
        "array_2D = np.array([[20, 30, 40, 50, 60],\n",
        "                    [43, 54, 65, 76, 87],\n",
        "                    [11, 22, 33, 44, 55]])\n",
        "\n",
        "# 3D Array\n",
        "array_3D = np.array([[[1, 2, 3, 4, 5],\n",
        "                     [11, 21, 31, 41, 51]],\n",
        "                    [[11, 12, 13, 14, 15],\n",
        "                     [51, 52, 53, 54, 5]]])\n",
        "# 1. Display the first element (not necessarily individual)\n",
        "print(\"First element of array_1D:\", array_1D[0])\n",
        "print(\"First element of array_2D:\", array_2D[0])\n",
        "print(\"First element of array_3D:\", array_3D[0])\n",
        "\n",
        "# 2. Call the first individual element\n",
        "print(\"First individual element of array_1D:\", array_1D[0])\n",
        "print(\"First individual element of array_2D:\", array_2D[0][0])\n",
        "print(\"First individual element of array_3D:\", array_3D[0][0][0])\n",
        "\n",
        "# 3. Use negative indices to display last element\n",
        "print(\"Last element of array_1D:\", array_1D[-1])\n",
        "print(\"Last element of array_2D:\", array_2D[-1][-1])\n",
        "print(\"Last element of array_3D:\", array_3D[-1][-1][-1])\n",
        "\n"
      ]
    }
  ]
}