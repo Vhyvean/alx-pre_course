{
  "cells": [
    {
      "cell_type": "markdown",
      "metadata": {
        "id": "view-in-github",
        "colab_type": "text"
      },
      "source": [
        "<a href=\"https://colab.research.google.com/github/Vhyvean/alx-pre_course/blob/master/Lists%2C_Sets%2C_Dictionaries_and_Tuples.ipynb\" target=\"_parent\"><img src=\"https://colab.research.google.com/assets/colab-badge.svg\" alt=\"Open In Colab\"/></a>"
      ]
    },
    {
      "cell_type": "markdown",
      "id": "f39d4d86",
      "metadata": {
        "id": "f39d4d86"
      },
      "source": [
        "### Lists :"
      ]
    },
    {
      "cell_type": "markdown",
      "id": "9b9b24ac",
      "metadata": {
        "id": "9b9b24ac"
      },
      "source": [
        " mutable data structure, changeable, ordered sequence of elements inside square brackets[ ]\n"
      ]
    },
    {
      "cell_type": "code",
      "execution_count": null,
      "id": "41e42161",
      "metadata": {
        "id": "41e42161",
        "outputId": "189f4f14-8a87-4066-9c0c-a3e542ec818f"
      },
      "outputs": [
        {
          "data": {
            "text/plain": [
              "list"
            ]
          },
          "execution_count": 1,
          "metadata": {},
          "output_type": "execute_result"
        }
      ],
      "source": [
        "type ([])"
      ]
    },
    {
      "cell_type": "code",
      "execution_count": null,
      "id": "994d187c",
      "metadata": {
        "id": "994d187c",
        "outputId": "3df2569d-8ce0-4ac1-c637-242483fd35b5"
      },
      "outputs": [
        {
          "data": {
            "text/plain": [
              "list"
            ]
          },
          "execution_count": 2,
          "metadata": {},
          "output_type": "execute_result"
        }
      ],
      "source": [
        "lst = list()  #creates empty list\n",
        "type(lst)"
      ]
    },
    {
      "cell_type": "code",
      "execution_count": null,
      "id": "b7b867c6",
      "metadata": {
        "id": "b7b867c6",
        "outputId": "f10fb284-f707-4bf7-b0b3-2d3fb29a9000"
      },
      "outputs": [
        {
          "name": "stdout",
          "output_type": "stream",
          "text": [
            "[10, 'Data', 20, True, 15.6]\n",
            "<class 'list'>\n"
          ]
        }
      ],
      "source": [
        "lst_example = [10,\"Data\",20, True , 15.6]\n",
        "print(lst_example)\n",
        "print(type(lst_example))"
      ]
    },
    {
      "cell_type": "code",
      "execution_count": null,
      "id": "9a41de9c",
      "metadata": {
        "id": "9a41de9c",
        "outputId": "f550eb55-fa8d-4599-8c54-2fff364e09ae"
      },
      "outputs": [
        {
          "name": "stdout",
          "output_type": "stream",
          "text": [
            "[10, 20, 30, 'A', 22.5]\n",
            "30\n"
          ]
        }
      ],
      "source": [
        "l = [10, 20, 30, \"A\", 22.5]\n",
        "#    0    1   2   3    4\n",
        "#    -5  -4  -3  -2   -1\n",
        "print(l)\n",
        "print(l[2])"
      ]
    },
    {
      "cell_type": "code",
      "execution_count": null,
      "id": "9ade308b",
      "metadata": {
        "id": "9ade308b",
        "outputId": "1c732518-08b8-4da5-b695-1547cac54de7"
      },
      "outputs": [
        {
          "data": {
            "text/plain": [
              "'A'"
            ]
          },
          "execution_count": 5,
          "metadata": {},
          "output_type": "execute_result"
        }
      ],
      "source": [
        "l[-2]"
      ]
    },
    {
      "cell_type": "code",
      "execution_count": null,
      "id": "1d397319",
      "metadata": {
        "id": "1d397319",
        "outputId": "70a47761-43f5-4f91-863c-5709b6c1a782"
      },
      "outputs": [
        {
          "name": "stdout",
          "output_type": "stream",
          "text": [
            "A\n"
          ]
        }
      ],
      "source": [
        "print(l[3])"
      ]
    },
    {
      "cell_type": "code",
      "execution_count": null,
      "id": "d6cfe76d",
      "metadata": {
        "id": "d6cfe76d",
        "outputId": "362887b3-86b0-4107-bdce-0cfe35a93eb1"
      },
      "outputs": [
        {
          "name": "stdout",
          "output_type": "stream",
          "text": [
            "[10, 'C', 30, 'A', 22.5]\n"
          ]
        }
      ],
      "source": [
        "l[1] = \"C\"\n",
        "print(l)   # list is mutable object"
      ]
    },
    {
      "cell_type": "code",
      "execution_count": null,
      "id": "30a667b1",
      "metadata": {
        "scrolled": true,
        "id": "30a667b1",
        "outputId": "4f279ada-f40a-4a03-9f20-59eb980f5395"
      },
      "outputs": [
        {
          "ename": "IndexError",
          "evalue": "list assignment index out of range",
          "output_type": "error",
          "traceback": [
            "\u001b[1;31m---------------------------------------------------------------------------\u001b[0m",
            "\u001b[1;31mIndexError\u001b[0m                                Traceback (most recent call last)",
            "Cell \u001b[1;32mIn[8], line 1\u001b[0m\n\u001b[1;32m----> 1\u001b[0m l[\u001b[38;5;241m6\u001b[39m] \u001b[38;5;241m=\u001b[39m \u001b[38;5;241m400\u001b[39m\n",
            "\u001b[1;31mIndexError\u001b[0m: list assignment index out of range"
          ]
        }
      ],
      "source": [
        "l[6] = 400  #out of range"
      ]
    },
    {
      "cell_type": "markdown",
      "id": "67e3efe4",
      "metadata": {
        "id": "67e3efe4"
      },
      "source": [
        "### List Functions"
      ]
    },
    {
      "cell_type": "code",
      "execution_count": null,
      "id": "7f32063e",
      "metadata": {
        "id": "7f32063e"
      },
      "outputs": [],
      "source": [
        "# len()"
      ]
    },
    {
      "cell_type": "code",
      "execution_count": null,
      "id": "baecdd47",
      "metadata": {
        "id": "baecdd47",
        "outputId": "98e860ea-0357-401a-9bb1-c9d7e1bd27b8"
      },
      "outputs": [
        {
          "name": "stdout",
          "output_type": "stream",
          "text": [
            "5\n"
          ]
        }
      ],
      "source": [
        "my_list = [10,40,30,60,50]\n",
        "print(len(my_list))"
      ]
    },
    {
      "cell_type": "code",
      "execution_count": null,
      "id": "9c98f29e",
      "metadata": {
        "id": "9c98f29e"
      },
      "outputs": [],
      "source": [
        "# sum()"
      ]
    },
    {
      "cell_type": "code",
      "execution_count": null,
      "id": "3e73197a",
      "metadata": {
        "id": "3e73197a",
        "outputId": "2d2313ba-5f07-4853-a2ed-6069e6843b5a"
      },
      "outputs": [
        {
          "name": "stdout",
          "output_type": "stream",
          "text": [
            "190\n"
          ]
        }
      ],
      "source": [
        "my_list = [10,40,30,60,50]\n",
        "print(sum(my_list))"
      ]
    },
    {
      "cell_type": "code",
      "execution_count": null,
      "id": "d576a6f9",
      "metadata": {
        "id": "d576a6f9"
      },
      "outputs": [],
      "source": [
        "# max()"
      ]
    },
    {
      "cell_type": "code",
      "execution_count": null,
      "id": "13e6c183",
      "metadata": {
        "id": "13e6c183",
        "outputId": "c66cb57c-2a34-4001-e463-067fde8d0d21"
      },
      "outputs": [
        {
          "data": {
            "text/plain": [
              "90"
            ]
          },
          "execution_count": 14,
          "metadata": {},
          "output_type": "execute_result"
        }
      ],
      "source": [
        "list1 = [90,80,10,60,50,20]\n",
        "max(list1)"
      ]
    },
    {
      "cell_type": "code",
      "execution_count": null,
      "id": "9116d39c",
      "metadata": {
        "id": "9116d39c"
      },
      "outputs": [],
      "source": [
        "#min()"
      ]
    },
    {
      "cell_type": "code",
      "execution_count": null,
      "id": "03963b89",
      "metadata": {
        "id": "03963b89",
        "outputId": "3a8cad50-91c8-43ac-8fb2-bf5a07fdae57"
      },
      "outputs": [
        {
          "data": {
            "text/plain": [
              "10"
            ]
          },
          "execution_count": 16,
          "metadata": {},
          "output_type": "execute_result"
        }
      ],
      "source": [
        "list2 = [90,80,10,60,50,20]\n",
        "min(list2)"
      ]
    },
    {
      "cell_type": "code",
      "execution_count": null,
      "id": "14073a8c",
      "metadata": {
        "id": "14073a8c",
        "outputId": "6d88cf52-58cf-476b-c1c0-5706d2cd511b"
      },
      "outputs": [
        {
          "name": "stdout",
          "output_type": "stream",
          "text": [
            "A\n"
          ]
        }
      ],
      "source": [
        "my_list = [\"A\",\"B\",\"C\",\"D\"]\n",
        "print(min(my_list))     #based on ASCII"
      ]
    },
    {
      "cell_type": "code",
      "execution_count": null,
      "id": "3eb3d243",
      "metadata": {
        "id": "3eb3d243"
      },
      "outputs": [],
      "source": [
        "# sorted()"
      ]
    },
    {
      "cell_type": "code",
      "execution_count": null,
      "id": "40ebdcf1",
      "metadata": {
        "id": "40ebdcf1",
        "outputId": "8a71c7e7-3dd4-4e12-d782-1cb4489247ed"
      },
      "outputs": [
        {
          "name": "stdout",
          "output_type": "stream",
          "text": [
            "['B', 'C', 'D', 'D']\n"
          ]
        }
      ],
      "source": [
        "list3 = [\"D\",\"B\",\"C\",\"D\"]\n",
        "print(sorted(list3))"
      ]
    },
    {
      "cell_type": "code",
      "execution_count": null,
      "id": "8283e12c",
      "metadata": {
        "id": "8283e12c",
        "outputId": "e91d05f3-2e6c-46c6-cf3d-384470051e0d"
      },
      "outputs": [
        {
          "ename": "TypeError",
          "evalue": "'<' not supported between instances of 'str' and 'int'",
          "output_type": "error",
          "traceback": [
            "\u001b[1;31m---------------------------------------------------------------------------\u001b[0m",
            "\u001b[1;31mTypeError\u001b[0m                                 Traceback (most recent call last)",
            "Cell \u001b[1;32mIn[20], line 2\u001b[0m\n\u001b[0;32m      1\u001b[0m list4 \u001b[38;5;241m=\u001b[39m [\u001b[38;5;241m100\u001b[39m,\u001b[38;5;124m\"\u001b[39m\u001b[38;5;124mB\u001b[39m\u001b[38;5;124m\"\u001b[39m,\u001b[38;5;124m\"\u001b[39m\u001b[38;5;124mC\u001b[39m\u001b[38;5;124m\"\u001b[39m,\u001b[38;5;124m\"\u001b[39m\u001b[38;5;124mD\u001b[39m\u001b[38;5;124m\"\u001b[39m]\n\u001b[1;32m----> 2\u001b[0m \u001b[38;5;28mprint\u001b[39m(\u001b[38;5;28;43msorted\u001b[39;49m\u001b[43m(\u001b[49m\u001b[43mlist4\u001b[49m\u001b[43m)\u001b[49m)\n",
            "\u001b[1;31mTypeError\u001b[0m: '<' not supported between instances of 'str' and 'int'"
          ]
        }
      ],
      "source": [
        "list4 = [100,\"B\",\"C\",\"D\"]\n",
        "print(sorted(list4))\n"
      ]
    },
    {
      "cell_type": "code",
      "execution_count": null,
      "id": "ea4dc2eb",
      "metadata": {
        "id": "ea4dc2eb",
        "outputId": "2347050b-978f-4497-f9db-7a8ea36cfad9"
      },
      "outputs": [
        {
          "name": "stdout",
          "output_type": "stream",
          "text": [
            "[60, 50, 30, 20, 10]\n"
          ]
        }
      ],
      "source": [
        "list4 = [10,20,30,60,50]\n",
        "print(sorted(list4, reverse=True))  # desc order"
      ]
    },
    {
      "cell_type": "code",
      "execution_count": null,
      "id": "5fdc427c",
      "metadata": {
        "id": "5fdc427c"
      },
      "outputs": [],
      "source": [
        "# list()"
      ]
    },
    {
      "cell_type": "code",
      "execution_count": null,
      "id": "db9c4e3f",
      "metadata": {
        "id": "db9c4e3f",
        "outputId": "23af3b42-d253-4d80-cb40-4ec1dc4d9d6b"
      },
      "outputs": [
        {
          "name": "stdout",
          "output_type": "stream",
          "text": [
            "[1, 2, 3, 4]\n"
          ]
        }
      ],
      "source": [
        "t = (1,2,3,4)\n",
        "print(list(t))"
      ]
    },
    {
      "cell_type": "code",
      "execution_count": null,
      "id": "97426716",
      "metadata": {
        "id": "97426716",
        "outputId": "68b01cde-69a1-4218-b675-bb162a405722"
      },
      "outputs": [
        {
          "name": "stdout",
          "output_type": "stream",
          "text": [
            "['D', 'a', 't', 'a', 'S', 'c', 'i', 'e', 'n', 'c', 'e']\n"
          ]
        }
      ],
      "source": [
        "print(list(\"DataScience\"))"
      ]
    },
    {
      "cell_type": "markdown",
      "id": "00985002",
      "metadata": {
        "id": "00985002"
      },
      "source": [
        "### List Slicing or Comprehensions"
      ]
    },
    {
      "cell_type": "code",
      "execution_count": null,
      "id": "4281748d",
      "metadata": {
        "id": "4281748d"
      },
      "outputs": [],
      "source": [
        "# l[start : end]"
      ]
    },
    {
      "cell_type": "code",
      "execution_count": null,
      "id": "c2872ebf",
      "metadata": {
        "id": "c2872ebf",
        "outputId": "029310a5-dd55-4d11-b76e-977433e07705"
      },
      "outputs": [
        {
          "name": "stdout",
          "output_type": "stream",
          "text": [
            "[2, 3, 4, 5, 6]\n"
          ]
        }
      ],
      "source": [
        "list5 = [0,1,2,3,4,5,6,7,8,9]\n",
        "print(list5[2:7])"
      ]
    },
    {
      "cell_type": "code",
      "execution_count": null,
      "id": "15229056",
      "metadata": {
        "id": "15229056",
        "outputId": "a96a1f6d-dee0-4876-9eb0-8ee3722a298f"
      },
      "outputs": [
        {
          "data": {
            "text/plain": [
              "[0, 1, 2, 3, 4, 5, 6, 7, 8, 9]"
            ]
          },
          "execution_count": 27,
          "metadata": {},
          "output_type": "execute_result"
        }
      ],
      "source": [
        "list5[:]  # start to end"
      ]
    },
    {
      "cell_type": "code",
      "execution_count": null,
      "id": "6927865a",
      "metadata": {
        "id": "6927865a",
        "outputId": "22c5e627-38ef-4c34-daa5-d4c4b921a62e"
      },
      "outputs": [
        {
          "data": {
            "text/plain": [
              "[2, 3, 4, 5, 6, 7, 8, 9]"
            ]
          },
          "execution_count": 28,
          "metadata": {},
          "output_type": "execute_result"
        }
      ],
      "source": [
        "list5 [2:] # from 2nd index to end"
      ]
    },
    {
      "cell_type": "code",
      "execution_count": null,
      "id": "fe3faee4",
      "metadata": {
        "id": "fe3faee4",
        "outputId": "7fd6e4b7-1385-4dc8-d19f-29c8b875083c"
      },
      "outputs": [
        {
          "data": {
            "text/plain": [
              "[0, 1, 2]"
            ]
          },
          "execution_count": 29,
          "metadata": {},
          "output_type": "execute_result"
        }
      ],
      "source": [
        "list5 [ :3]  #start to 3rd index"
      ]
    },
    {
      "cell_type": "code",
      "execution_count": null,
      "id": "7116a981",
      "metadata": {
        "id": "7116a981"
      },
      "outputs": [],
      "source": [
        "# l[start:end:steps]"
      ]
    },
    {
      "cell_type": "code",
      "execution_count": null,
      "id": "0d4fb18d",
      "metadata": {
        "id": "0d4fb18d",
        "outputId": "51e2c04c-bcc3-4ff2-b27b-46f29f4d48d9"
      },
      "outputs": [
        {
          "data": {
            "text/plain": [
              "[0, 2, 4, 6, 8]"
            ]
          },
          "execution_count": 31,
          "metadata": {},
          "output_type": "execute_result"
        }
      ],
      "source": [
        "list5[::2]"
      ]
    },
    {
      "cell_type": "code",
      "execution_count": null,
      "id": "1eb964bd",
      "metadata": {
        "id": "1eb964bd",
        "outputId": "4ac45ad8-3961-40b5-e4c0-46d5e03edaea"
      },
      "outputs": [
        {
          "name": "stdout",
          "output_type": "stream",
          "text": [
            "[29, 100, 102]\n"
          ]
        }
      ],
      "source": [
        "#   -10 -9 -8 -7 -6 -5 -4  -3  -2  -1\n",
        "l = [11,22,33,44,55,76,29,100,102,300]\n",
        "#    0  1  2  3  4  5  6   7   8  9\n",
        "\n",
        "print(l[-4:-1])"
      ]
    },
    {
      "cell_type": "code",
      "execution_count": null,
      "id": "2fadcabc",
      "metadata": {
        "id": "2fadcabc",
        "outputId": "f49df6a8-8299-4e6f-eddb-2eadca88b01d"
      },
      "outputs": [
        {
          "name": "stdout",
          "output_type": "stream",
          "text": [
            "[300, 102, 100, 29, 76, 55, 44, 33, 22, 11]\n"
          ]
        }
      ],
      "source": [
        "print(l[::-1])  # reverse technique"
      ]
    },
    {
      "cell_type": "code",
      "execution_count": null,
      "id": "15ef8bed",
      "metadata": {
        "id": "15ef8bed",
        "outputId": "cf7eb96a-8d7c-41ce-89e3-a77395d2bc3c"
      },
      "outputs": [
        {
          "name": "stdout",
          "output_type": "stream",
          "text": [
            "[11, 22, 33, 44, 55, 76, 29, 100, 102, 300]\n"
          ]
        }
      ],
      "source": [
        "print(l[::1])"
      ]
    },
    {
      "cell_type": "code",
      "execution_count": null,
      "id": "fc6b3994",
      "metadata": {
        "id": "fc6b3994",
        "outputId": "923110ab-66d1-43a3-cd3f-e5d363a97a74"
      },
      "outputs": [
        {
          "ename": "IndexError",
          "evalue": "list index out of range",
          "output_type": "error",
          "traceback": [
            "\u001b[1;31m---------------------------------------------------------------------------\u001b[0m",
            "\u001b[1;31mIndexError\u001b[0m                                Traceback (most recent call last)",
            "Cell \u001b[1;32mIn[35], line 5\u001b[0m\n\u001b[0;32m      2\u001b[0m l \u001b[38;5;241m=\u001b[39m [\u001b[38;5;241m11\u001b[39m,\u001b[38;5;241m22\u001b[39m,\u001b[38;5;241m33\u001b[39m,\u001b[38;5;241m44\u001b[39m,\u001b[38;5;241m55\u001b[39m,\u001b[38;5;241m76\u001b[39m,\u001b[38;5;241m29\u001b[39m,\u001b[38;5;241m100\u001b[39m,\u001b[38;5;241m102\u001b[39m,\u001b[38;5;241m300\u001b[39m]\n\u001b[0;32m      3\u001b[0m \u001b[38;5;66;03m#    0  1  2  3  4  5  6   7   8  9\u001b[39;00m\n\u001b[1;32m----> 5\u001b[0m \u001b[38;5;28mprint\u001b[39m(\u001b[43ml\u001b[49m\u001b[43m[\u001b[49m\u001b[38;5;241;43m15\u001b[39;49m\u001b[43m]\u001b[49m)\n",
            "\u001b[1;31mIndexError\u001b[0m: list index out of range"
          ]
        }
      ],
      "source": [
        "#   -10 -9 -8 -7 -6 -5 -4  -3  -2  -1\n",
        "l = [11,22,33,44,55,76,29,100,102,300]\n",
        "#    0  1  2  3  4  5  6   7   8  9\n",
        "\n",
        "print(l[15])"
      ]
    },
    {
      "cell_type": "code",
      "execution_count": null,
      "id": "b836c81e",
      "metadata": {
        "id": "b836c81e",
        "outputId": "a4c277d3-1872-47c8-d2aa-4148a05a82b8"
      },
      "outputs": [
        {
          "name": "stdout",
          "output_type": "stream",
          "text": [
            "[]\n"
          ]
        }
      ],
      "source": [
        "#   -10 -9 -8 -7 -6 -5 -4  -3  -2  -1\n",
        "l = [11,22,33,44,55,76,29,100,102,300]\n",
        "#    0  1  2  3  4  5  6   7   8  9\n",
        "\n",
        "print(l[15:20])"
      ]
    },
    {
      "cell_type": "markdown",
      "id": "1b7bd754",
      "metadata": {
        "id": "1b7bd754"
      },
      "source": [
        "### List Methods"
      ]
    },
    {
      "cell_type": "code",
      "execution_count": null,
      "id": "dcd121d8",
      "metadata": {
        "id": "dcd121d8",
        "outputId": "beb6828c-f81a-4ee1-c35a-9e8928b8d834"
      },
      "outputs": [
        {
          "name": "stdout",
          "output_type": "stream",
          "text": [
            "Help on class list in module builtins:\n",
            "\n",
            "class list(object)\n",
            " |  list(iterable=(), /)\n",
            " |  \n",
            " |  Built-in mutable sequence.\n",
            " |  \n",
            " |  If no argument is given, the constructor creates a new empty list.\n",
            " |  The argument must be an iterable if specified.\n",
            " |  \n",
            " |  Methods defined here:\n",
            " |  \n",
            " |  __add__(self, value, /)\n",
            " |      Return self+value.\n",
            " |  \n",
            " |  __contains__(self, key, /)\n",
            " |      Return key in self.\n",
            " |  \n",
            " |  __delitem__(self, key, /)\n",
            " |      Delete self[key].\n",
            " |  \n",
            " |  __eq__(self, value, /)\n",
            " |      Return self==value.\n",
            " |  \n",
            " |  __ge__(self, value, /)\n",
            " |      Return self>=value.\n",
            " |  \n",
            " |  __getattribute__(self, name, /)\n",
            " |      Return getattr(self, name).\n",
            " |  \n",
            " |  __getitem__(...)\n",
            " |      x.__getitem__(y) <==> x[y]\n",
            " |  \n",
            " |  __gt__(self, value, /)\n",
            " |      Return self>value.\n",
            " |  \n",
            " |  __iadd__(self, value, /)\n",
            " |      Implement self+=value.\n",
            " |  \n",
            " |  __imul__(self, value, /)\n",
            " |      Implement self*=value.\n",
            " |  \n",
            " |  __init__(self, /, *args, **kwargs)\n",
            " |      Initialize self.  See help(type(self)) for accurate signature.\n",
            " |  \n",
            " |  __iter__(self, /)\n",
            " |      Implement iter(self).\n",
            " |  \n",
            " |  __le__(self, value, /)\n",
            " |      Return self<=value.\n",
            " |  \n",
            " |  __len__(self, /)\n",
            " |      Return len(self).\n",
            " |  \n",
            " |  __lt__(self, value, /)\n",
            " |      Return self<value.\n",
            " |  \n",
            " |  __mul__(self, value, /)\n",
            " |      Return self*value.\n",
            " |  \n",
            " |  __ne__(self, value, /)\n",
            " |      Return self!=value.\n",
            " |  \n",
            " |  __repr__(self, /)\n",
            " |      Return repr(self).\n",
            " |  \n",
            " |  __reversed__(self, /)\n",
            " |      Return a reverse iterator over the list.\n",
            " |  \n",
            " |  __rmul__(self, value, /)\n",
            " |      Return value*self.\n",
            " |  \n",
            " |  __setitem__(self, key, value, /)\n",
            " |      Set self[key] to value.\n",
            " |  \n",
            " |  __sizeof__(self, /)\n",
            " |      Return the size of the list in memory, in bytes.\n",
            " |  \n",
            " |  append(self, object, /)\n",
            " |      Append object to the end of the list.\n",
            " |  \n",
            " |  clear(self, /)\n",
            " |      Remove all items from list.\n",
            " |  \n",
            " |  copy(self, /)\n",
            " |      Return a shallow copy of the list.\n",
            " |  \n",
            " |  count(self, value, /)\n",
            " |      Return number of occurrences of value.\n",
            " |  \n",
            " |  extend(self, iterable, /)\n",
            " |      Extend list by appending elements from the iterable.\n",
            " |  \n",
            " |  index(self, value, start=0, stop=9223372036854775807, /)\n",
            " |      Return first index of value.\n",
            " |      \n",
            " |      Raises ValueError if the value is not present.\n",
            " |  \n",
            " |  insert(self, index, object, /)\n",
            " |      Insert object before index.\n",
            " |  \n",
            " |  pop(self, index=-1, /)\n",
            " |      Remove and return item at index (default last).\n",
            " |      \n",
            " |      Raises IndexError if list is empty or index is out of range.\n",
            " |  \n",
            " |  remove(self, value, /)\n",
            " |      Remove first occurrence of value.\n",
            " |      \n",
            " |      Raises ValueError if the value is not present.\n",
            " |  \n",
            " |  reverse(self, /)\n",
            " |      Reverse *IN PLACE*.\n",
            " |  \n",
            " |  sort(self, /, *, key=None, reverse=False)\n",
            " |      Sort the list in ascending order and return None.\n",
            " |      \n",
            " |      The sort is in-place (i.e. the list itself is modified) and stable (i.e. the\n",
            " |      order of two equal elements is maintained).\n",
            " |      \n",
            " |      If a key function is given, apply it once to each list item and sort them,\n",
            " |      ascending or descending, according to their function values.\n",
            " |      \n",
            " |      The reverse flag can be set to sort in descending order.\n",
            " |  \n",
            " |  ----------------------------------------------------------------------\n",
            " |  Class methods defined here:\n",
            " |  \n",
            " |  __class_getitem__(...) from builtins.type\n",
            " |      See PEP 585\n",
            " |  \n",
            " |  ----------------------------------------------------------------------\n",
            " |  Static methods defined here:\n",
            " |  \n",
            " |  __new__(*args, **kwargs) from builtins.type\n",
            " |      Create and return a new object.  See help(type) for accurate signature.\n",
            " |  \n",
            " |  ----------------------------------------------------------------------\n",
            " |  Data and other attributes defined here:\n",
            " |  \n",
            " |  __hash__ = None\n",
            "\n"
          ]
        }
      ],
      "source": [
        "help(list)"
      ]
    },
    {
      "cell_type": "code",
      "execution_count": null,
      "id": "235ae968",
      "metadata": {
        "id": "235ae968",
        "outputId": "5f5485e9-64d2-454f-fd69-b89bd0d21122"
      },
      "outputs": [
        {
          "data": {
            "text/plain": [
              "[1, 2, 3, 4, 5, 6, 7, 8]"
            ]
          },
          "execution_count": 38,
          "metadata": {},
          "output_type": "execute_result"
        }
      ],
      "source": [
        "lst = [1,2,3,4,5,6,7,8]\n",
        "lst"
      ]
    },
    {
      "cell_type": "code",
      "execution_count": null,
      "id": "484f240c",
      "metadata": {
        "id": "484f240c"
      },
      "outputs": [],
      "source": [
        "#append()"
      ]
    },
    {
      "cell_type": "code",
      "execution_count": null,
      "id": "65e35633",
      "metadata": {
        "id": "65e35633",
        "outputId": "991878c8-bdd8-4c04-d1e8-e9fc00d09364"
      },
      "outputs": [
        {
          "data": {
            "text/plain": [
              "[1, 2, 3, 4, 5, 6, 7, 8, '10']"
            ]
          },
          "execution_count": 40,
          "metadata": {},
          "output_type": "execute_result"
        }
      ],
      "source": [
        "#.append is used to add elements in the list\n",
        "lst.append(\"10\")\n",
        "lst"
      ]
    },
    {
      "cell_type": "code",
      "execution_count": null,
      "id": "4b643b73",
      "metadata": {
        "id": "4b643b73"
      },
      "outputs": [],
      "source": [
        "lst.append([\"12,13\"]) #creates nested list"
      ]
    },
    {
      "cell_type": "code",
      "execution_count": null,
      "id": "71ef2258",
      "metadata": {
        "id": "71ef2258",
        "outputId": "9f9d43bb-1dc3-4206-d567-48a33876964b"
      },
      "outputs": [
        {
          "data": {
            "text/plain": [
              "[1, 2, 3, 4, 5, 6, 7, 8, '10', ['12,13']]"
            ]
          },
          "execution_count": 42,
          "metadata": {},
          "output_type": "execute_result"
        }
      ],
      "source": [
        "lst"
      ]
    },
    {
      "cell_type": "code",
      "execution_count": null,
      "id": "06030399",
      "metadata": {
        "id": "06030399",
        "outputId": "3f723ab8-2150-476f-e5fe-6b308075e80b"
      },
      "outputs": [
        {
          "data": {
            "text/plain": [
              "['12,13']"
            ]
          },
          "execution_count": 43,
          "metadata": {},
          "output_type": "execute_result"
        }
      ],
      "source": [
        "lst[9]"
      ]
    },
    {
      "cell_type": "code",
      "execution_count": null,
      "id": "103730f9",
      "metadata": {
        "id": "103730f9",
        "outputId": "8efdc393-c3d4-4b49-d30f-2cb8bae1ac28"
      },
      "outputs": [
        {
          "data": {
            "text/plain": [
              "'12,13'"
            ]
          },
          "execution_count": 44,
          "metadata": {},
          "output_type": "execute_result"
        }
      ],
      "source": [
        "lst[9][0]"
      ]
    },
    {
      "cell_type": "code",
      "execution_count": null,
      "id": "8d116891",
      "metadata": {
        "id": "8d116891"
      },
      "outputs": [],
      "source": [
        "# insert()"
      ]
    },
    {
      "cell_type": "code",
      "execution_count": null,
      "id": "abfcec7d",
      "metadata": {
        "id": "abfcec7d",
        "outputId": "4bc9e6a0-bc6d-4313-9bc8-025a869c43b5"
      },
      "outputs": [
        {
          "data": {
            "text/plain": [
              "[1, 2, 15, 3, 4, 5, 6, 7, 8, '10', ['12,13']]"
            ]
          },
          "execution_count": 46,
          "metadata": {},
          "output_type": "execute_result"
        }
      ],
      "source": [
        "lst.insert(2,15)\n",
        "lst"
      ]
    },
    {
      "cell_type": "code",
      "execution_count": null,
      "id": "fd41d869",
      "metadata": {
        "id": "fd41d869"
      },
      "outputs": [],
      "source": [
        "#extend()"
      ]
    },
    {
      "cell_type": "code",
      "execution_count": null,
      "id": "92253569",
      "metadata": {
        "id": "92253569",
        "outputId": "b751a014-9ff2-4b50-e276-a3003f0d4ec0"
      },
      "outputs": [
        {
          "data": {
            "text/plain": [
              "[1, 2, 15, 3, 4, 5, 6, 7, 8, '10', ['12,13'], 20, 21]"
            ]
          },
          "execution_count": 48,
          "metadata": {},
          "output_type": "execute_result"
        }
      ],
      "source": [
        "lst.extend([20,21])\n",
        "lst"
      ]
    },
    {
      "cell_type": "code",
      "execution_count": null,
      "id": "94a5fedb",
      "metadata": {
        "id": "94a5fedb",
        "outputId": "4ab0210b-586e-4253-f27c-6081b5702479"
      },
      "outputs": [
        {
          "data": {
            "text/plain": [
              "[1,\n",
              " 2,\n",
              " 15,\n",
              " 3,\n",
              " 4,\n",
              " 5,\n",
              " 6,\n",
              " 7,\n",
              " 8,\n",
              " '10',\n",
              " ['12,13'],\n",
              " 20,\n",
              " 21,\n",
              " 1,\n",
              " 2,\n",
              " 15,\n",
              " 3,\n",
              " 4,\n",
              " 5,\n",
              " 6,\n",
              " 7,\n",
              " 8,\n",
              " '10',\n",
              " ['12,13'],\n",
              " 20,\n",
              " 21,\n",
              " 1,\n",
              " 2,\n",
              " 15,\n",
              " 3,\n",
              " 4,\n",
              " 5,\n",
              " 6,\n",
              " 7,\n",
              " 8,\n",
              " '10',\n",
              " ['12,13'],\n",
              " 20,\n",
              " 21,\n",
              " 1,\n",
              " 2,\n",
              " 15,\n",
              " 3,\n",
              " 4,\n",
              " 5,\n",
              " 6,\n",
              " 7,\n",
              " 8,\n",
              " '10',\n",
              " ['12,13'],\n",
              " 20,\n",
              " 21,\n",
              " 1,\n",
              " 2,\n",
              " 15,\n",
              " 3,\n",
              " 4,\n",
              " 5,\n",
              " 6,\n",
              " 7,\n",
              " 8,\n",
              " '10',\n",
              " ['12,13'],\n",
              " 20,\n",
              " 21]"
            ]
          },
          "execution_count": 49,
          "metadata": {},
          "output_type": "execute_result"
        }
      ],
      "source": [
        "lst*5"
      ]
    },
    {
      "cell_type": "code",
      "execution_count": null,
      "id": "c6e5bf5f",
      "metadata": {
        "id": "c6e5bf5f",
        "outputId": "0952bdf2-a89b-42d4-ac49-5a43d5f22965"
      },
      "outputs": [
        {
          "data": {
            "text/plain": [
              "[1, 2, 3, 4, 5, 1, 2, 3, 4, 5, 1, 2, 3, 4, 5, 1, 2, 3, 4, 5, 1, 2, 3, 4, 5]"
            ]
          },
          "execution_count": 50,
          "metadata": {},
          "output_type": "execute_result"
        }
      ],
      "source": [
        "lst1 = [1,2,3,4,5]\n",
        "lst1*5"
      ]
    },
    {
      "cell_type": "code",
      "execution_count": null,
      "id": "1cdcc7f8",
      "metadata": {
        "id": "1cdcc7f8"
      },
      "outputs": [],
      "source": [
        "#pop()"
      ]
    },
    {
      "cell_type": "code",
      "execution_count": null,
      "id": "49bee0b4",
      "metadata": {
        "id": "49bee0b4",
        "outputId": "687fca7d-d3f2-4246-9a22-bb17e41bab0d"
      },
      "outputs": [
        {
          "data": {
            "text/plain": [
              "[1, 2, 15, 3, 4, 5, 6, 7, 8, '10', ['12,13'], 20]"
            ]
          },
          "execution_count": 52,
          "metadata": {},
          "output_type": "execute_result"
        }
      ],
      "source": [
        " lst.pop()\n",
        "lst"
      ]
    },
    {
      "cell_type": "code",
      "execution_count": null,
      "id": "63548261",
      "metadata": {
        "id": "63548261",
        "outputId": "93d4d219-d429-4c2c-9a6c-7d00d4ddee56"
      },
      "outputs": [
        {
          "data": {
            "text/plain": [
              "[1, 2, 3, 4, 5, 6, 7, 8, '10', ['12,13'], 20]"
            ]
          },
          "execution_count": 53,
          "metadata": {},
          "output_type": "execute_result"
        }
      ],
      "source": [
        "lst.pop(2)\n",
        "lst"
      ]
    },
    {
      "cell_type": "markdown",
      "id": "715c48cc",
      "metadata": {
        "id": "715c48cc"
      },
      "source": [
        "## SETS:"
      ]
    },
    {
      "cell_type": "markdown",
      "id": "4ac18a56",
      "metadata": {
        "id": "4ac18a56"
      },
      "source": [
        "Set is an unordered collection data type that is iterable, mutable and has no duplicate elements. Python's set class represents the mathematical notion of a set. This is based on a data structure known as hash table."
      ]
    },
    {
      "cell_type": "code",
      "execution_count": null,
      "id": "13c64292",
      "metadata": {
        "id": "13c64292",
        "outputId": "949bcebe-4649-41f4-a6cb-88875a93b6d4"
      },
      "outputs": [
        {
          "name": "stdout",
          "output_type": "stream",
          "text": [
            "set()\n",
            "<class 'set'>\n"
          ]
        }
      ],
      "source": [
        "# Defining an empty set\n",
        "\n",
        "my_set = set()\n",
        "print(my_set)\n",
        "print(type(my_set))"
      ]
    },
    {
      "cell_type": "code",
      "execution_count": null,
      "id": "51f7d89a",
      "metadata": {
        "id": "51f7d89a",
        "outputId": "7f41d265-7e32-4d2e-bee5-b01e29970588"
      },
      "outputs": [
        {
          "data": {
            "text/plain": [
              "dict"
            ]
          },
          "execution_count": 55,
          "metadata": {},
          "output_type": "execute_result"
        }
      ],
      "source": [
        "type ({})"
      ]
    },
    {
      "cell_type": "code",
      "execution_count": null,
      "id": "ac30a098",
      "metadata": {
        "id": "ac30a098",
        "outputId": "e1f60e55-03fc-4907-e75f-cc167de02217"
      },
      "outputs": [
        {
          "data": {
            "text/plain": [
              "set"
            ]
          },
          "execution_count": 56,
          "metadata": {},
          "output_type": "execute_result"
        }
      ],
      "source": [
        "type({1})"
      ]
    },
    {
      "cell_type": "code",
      "execution_count": null,
      "id": "989843cf",
      "metadata": {
        "id": "989843cf",
        "outputId": "6c5dc2d1-214e-4ef6-b448-ac3bb485c58d"
      },
      "outputs": [
        {
          "name": "stdout",
          "output_type": "stream",
          "text": [
            "{1, 2, 3, 4, 5}\n"
          ]
        }
      ],
      "source": [
        "print(set([1,2,3,4,5,5]))"
      ]
    },
    {
      "cell_type": "code",
      "execution_count": null,
      "id": "b32f5b52",
      "metadata": {
        "id": "b32f5b52"
      },
      "outputs": [],
      "source": [
        "set_var = {1,2,3,4,5}"
      ]
    },
    {
      "cell_type": "code",
      "execution_count": null,
      "id": "943994e7",
      "metadata": {
        "id": "943994e7",
        "outputId": "f15f49e0-3a01-48b4-dc30-a67199806a6e"
      },
      "outputs": [
        {
          "name": "stdout",
          "output_type": "stream",
          "text": [
            "{1, 2, 3, 4, 5}\n"
          ]
        },
        {
          "data": {
            "text/plain": [
              "set"
            ]
          },
          "execution_count": 59,
          "metadata": {},
          "output_type": "execute_result"
        }
      ],
      "source": [
        "print(set_var)\n",
        "type(set_var)"
      ]
    },
    {
      "cell_type": "code",
      "execution_count": null,
      "id": "d5f797d6",
      "metadata": {
        "id": "d5f797d6",
        "outputId": "17dfa0a2-b0cd-42b3-aadb-17dcd929742b"
      },
      "outputs": [
        {
          "ename": "TypeError",
          "evalue": "'set' object is not subscriptable",
          "output_type": "error",
          "traceback": [
            "\u001b[1;31m---------------------------------------------------------------------------\u001b[0m",
            "\u001b[1;31mTypeError\u001b[0m                                 Traceback (most recent call last)",
            "Cell \u001b[1;32mIn[60], line 1\u001b[0m\n\u001b[1;32m----> 1\u001b[0m \u001b[43mset_var\u001b[49m\u001b[43m[\u001b[49m\u001b[38;5;241;43m2\u001b[39;49m\u001b[43m]\u001b[49m\n",
            "\u001b[1;31mTypeError\u001b[0m: 'set' object is not subscriptable"
          ]
        }
      ],
      "source": [
        "set_var[2] # not subsriptable"
      ]
    },
    {
      "cell_type": "code",
      "execution_count": null,
      "id": "62072065",
      "metadata": {
        "id": "62072065",
        "outputId": "66329f7a-8d11-459a-8cee-ab7a00a4a6d7"
      },
      "outputs": [
        {
          "name": "stdout",
          "output_type": "stream",
          "text": [
            "1\n",
            "2\n",
            "3\n",
            "4\n",
            "5\n"
          ]
        }
      ],
      "source": [
        "# iterable\n",
        "for i in set_var:\n",
        "    print(i)"
      ]
    },
    {
      "cell_type": "code",
      "execution_count": null,
      "id": "aaa7842e",
      "metadata": {
        "id": "aaa7842e",
        "outputId": "e99f46ea-41b6-4d3a-bc7e-35a9461e29a3"
      },
      "outputs": [
        {
          "data": {
            "text/plain": [
              "{1, 2, 3, 4, 5, 10}"
            ]
          },
          "execution_count": 62,
          "metadata": {},
          "output_type": "execute_result"
        }
      ],
      "source": [
        "set_var.add(10)\n",
        "set_var"
      ]
    },
    {
      "cell_type": "code",
      "execution_count": null,
      "id": "42622780",
      "metadata": {
        "id": "42622780",
        "outputId": "587f0f71-98e0-4a32-b527-5e27c72848f3"
      },
      "outputs": [
        {
          "data": {
            "text/plain": [
              "set()"
            ]
          },
          "execution_count": 63,
          "metadata": {},
          "output_type": "execute_result"
        }
      ],
      "source": [
        "set_var.clear()\n",
        "set_var"
      ]
    },
    {
      "cell_type": "code",
      "execution_count": null,
      "id": "041c7e0c",
      "metadata": {
        "id": "041c7e0c",
        "outputId": "f631faac-3143-4d00-defb-8083812b3e98"
      },
      "outputs": [
        {
          "data": {
            "text/plain": [
              "{1, 3, 5, 7, 9}"
            ]
          },
          "execution_count": 64,
          "metadata": {},
          "output_type": "execute_result"
        }
      ],
      "source": [
        "set_var = set({9,1,5,7,3,9}) # in order\n",
        "set_var"
      ]
    },
    {
      "cell_type": "code",
      "execution_count": null,
      "id": "86526d86",
      "metadata": {
        "id": "86526d86",
        "outputId": "f6b938b1-e094-4705-e892-f65b86a296a3"
      },
      "outputs": [
        {
          "data": {
            "text/plain": [
              "{4, 5}"
            ]
          },
          "execution_count": 65,
          "metadata": {},
          "output_type": "execute_result"
        }
      ],
      "source": [
        "set_1 = {1,2,3,4,5}\n",
        "set_2 = {4,5,6,7,8}\n",
        "set_1.intersection(set_2)\n"
      ]
    },
    {
      "cell_type": "code",
      "execution_count": null,
      "id": "0733c3bd",
      "metadata": {
        "id": "0733c3bd",
        "outputId": "6110ea74-0f7b-416c-ec99-c5b07db37ff9"
      },
      "outputs": [
        {
          "data": {
            "text/plain": [
              "{1, 2, 3, 4, 5}"
            ]
          },
          "execution_count": 66,
          "metadata": {},
          "output_type": "execute_result"
        }
      ],
      "source": [
        "set_1"
      ]
    },
    {
      "cell_type": "code",
      "execution_count": null,
      "id": "320d8e12",
      "metadata": {
        "id": "320d8e12"
      },
      "outputs": [],
      "source": [
        "set_1.intersection_update(set_2)"
      ]
    },
    {
      "cell_type": "code",
      "execution_count": null,
      "id": "b101d99e",
      "metadata": {
        "id": "b101d99e",
        "outputId": "581d7419-2e3a-422e-e590-b255c83fcb81"
      },
      "outputs": [
        {
          "data": {
            "text/plain": [
              "{4, 5}"
            ]
          },
          "execution_count": 68,
          "metadata": {},
          "output_type": "execute_result"
        }
      ],
      "source": [
        "set_1"
      ]
    },
    {
      "cell_type": "code",
      "execution_count": null,
      "id": "0f0563c8",
      "metadata": {
        "id": "0f0563c8"
      },
      "outputs": [],
      "source": [
        "# Difference"
      ]
    },
    {
      "cell_type": "code",
      "execution_count": null,
      "id": "bce86197",
      "metadata": {
        "id": "bce86197",
        "outputId": "503ba0ce-f077-4969-cada-a323a505c8cb"
      },
      "outputs": [
        {
          "data": {
            "text/plain": [
              "{1, 2, 3}"
            ]
          },
          "execution_count": 70,
          "metadata": {},
          "output_type": "execute_result"
        }
      ],
      "source": [
        "set_1 = {1,2,3,4,5}\n",
        "set_2 = {4,5,6,7,8}\n",
        "set_1.difference(set_2)"
      ]
    },
    {
      "cell_type": "code",
      "execution_count": null,
      "id": "39b16928",
      "metadata": {
        "id": "39b16928"
      },
      "outputs": [],
      "source": [
        "set_1 = {1,2,3,4,5}\n",
        "set_2 = {4,5,6,7,8}\n",
        "set_1.difference_update(set_2)"
      ]
    },
    {
      "cell_type": "code",
      "execution_count": null,
      "id": "b81d52d5",
      "metadata": {
        "id": "b81d52d5",
        "outputId": "23520340-7e95-4172-cf65-fa0cafd30f1f"
      },
      "outputs": [
        {
          "data": {
            "text/plain": [
              "{1, 2, 3}"
            ]
          },
          "execution_count": 72,
          "metadata": {},
          "output_type": "execute_result"
        }
      ],
      "source": [
        "set_1"
      ]
    },
    {
      "cell_type": "code",
      "execution_count": null,
      "id": "f06cc9e5",
      "metadata": {
        "id": "f06cc9e5",
        "outputId": "91af68be-aa99-4e97-b928-c83c34145f2f"
      },
      "outputs": [
        {
          "data": {
            "text/plain": [
              "False"
            ]
          },
          "execution_count": 73,
          "metadata": {},
          "output_type": "execute_result"
        }
      ],
      "source": [
        "set_1 = {1,2,3,4,5}\n",
        "set_2 = {4,5,6,7,8}\n",
        "set_2.issuperset(set_1)"
      ]
    },
    {
      "cell_type": "code",
      "execution_count": null,
      "id": "f1df1326",
      "metadata": {
        "id": "f1df1326",
        "outputId": "ed4e95db-4116-4bff-a65e-d5ab2c4aafb2"
      },
      "outputs": [
        {
          "data": {
            "text/plain": [
              "False"
            ]
          },
          "execution_count": 74,
          "metadata": {},
          "output_type": "execute_result"
        }
      ],
      "source": [
        "set_2.issubset(set_1)"
      ]
    },
    {
      "cell_type": "markdown",
      "id": "04c4656a",
      "metadata": {
        "id": "04c4656a"
      },
      "source": [
        "### Dictionaries"
      ]
    },
    {
      "cell_type": "markdown",
      "id": "af887d8c",
      "metadata": {
        "id": "af887d8c"
      },
      "source": [
        "A dictionary is a collection which is unordered, changeable and indexed. In python, dictionaries are written with curly brackets, and they have keys and values."
      ]
    },
    {
      "cell_type": "code",
      "execution_count": null,
      "id": "e5b2b36c",
      "metadata": {
        "id": "e5b2b36c"
      },
      "outputs": [],
      "source": [
        "dic = {}"
      ]
    },
    {
      "cell_type": "code",
      "execution_count": null,
      "id": "38c27cca",
      "metadata": {
        "id": "38c27cca",
        "outputId": "80b90ee8-9e0b-4e09-9c06-736618a5b99b"
      },
      "outputs": [
        {
          "data": {
            "text/plain": [
              "dict"
            ]
          },
          "execution_count": 76,
          "metadata": {},
          "output_type": "execute_result"
        }
      ],
      "source": [
        "type(dic)"
      ]
    },
    {
      "cell_type": "code",
      "execution_count": null,
      "id": "4fc24ab2",
      "metadata": {
        "id": "4fc24ab2",
        "outputId": "7c37fed1-484c-49af-b137-455d8a991c6a"
      },
      "outputs": [
        {
          "data": {
            "text/plain": [
              "dict"
            ]
          },
          "execution_count": 77,
          "metadata": {},
          "output_type": "execute_result"
        }
      ],
      "source": [
        "type(dict())"
      ]
    },
    {
      "cell_type": "code",
      "execution_count": null,
      "id": "0d2acf9e",
      "metadata": {
        "id": "0d2acf9e",
        "outputId": "0c55b273-9b47-445e-d977-8f9c720aece8"
      },
      "outputs": [
        {
          "data": {
            "text/plain": [
              "dict"
            ]
          },
          "execution_count": 78,
          "metadata": {},
          "output_type": "execute_result"
        }
      ],
      "source": [
        "type ({})"
      ]
    },
    {
      "cell_type": "code",
      "execution_count": null,
      "id": "17354041",
      "metadata": {
        "id": "17354041",
        "outputId": "d0bb5fe6-f538-4fc9-ec5b-f87e0231727d"
      },
      "outputs": [
        {
          "data": {
            "text/plain": [
              "set"
            ]
          },
          "execution_count": 79,
          "metadata": {},
          "output_type": "execute_result"
        }
      ],
      "source": [
        "type({1,2})"
      ]
    },
    {
      "cell_type": "code",
      "execution_count": null,
      "id": "007b2505",
      "metadata": {
        "id": "007b2505",
        "outputId": "1fdb740f-6d71-4cc3-a99c-0e53481f1baa"
      },
      "outputs": [
        {
          "data": {
            "text/plain": [
              "dict"
            ]
          },
          "execution_count": 80,
          "metadata": {},
          "output_type": "execute_result"
        }
      ],
      "source": [
        "type({1:\"Garima\"})"
      ]
    },
    {
      "cell_type": "code",
      "execution_count": null,
      "id": "a2499f2a",
      "metadata": {
        "id": "a2499f2a",
        "outputId": "0a489d34-3608-4820-8ded-d1223f246521"
      },
      "outputs": [
        {
          "ename": "SyntaxError",
          "evalue": "expression cannot contain assignment, perhaps you meant \"==\"? (1070228807.py, line 1)",
          "output_type": "error",
          "traceback": [
            "\u001b[1;36m  Cell \u001b[1;32mIn[81], line 1\u001b[1;36m\u001b[0m\n\u001b[1;33m    dict(\"name\"= \"Krish\", \"age\" = 31)  #keys should not contain quotes\u001b[0m\n\u001b[1;37m         ^\u001b[0m\n\u001b[1;31mSyntaxError\u001b[0m\u001b[1;31m:\u001b[0m expression cannot contain assignment, perhaps you meant \"==\"?\n"
          ]
        }
      ],
      "source": [
        "dict(\"name\"= \"Krish\", \"age\" = 31)  #keys should not contain quotes"
      ]
    },
    {
      "cell_type": "code",
      "execution_count": null,
      "id": "7787e7c2",
      "metadata": {
        "id": "7787e7c2",
        "outputId": "8d177379-b8b9-45b1-a77b-5d98b38eba39"
      },
      "outputs": [
        {
          "data": {
            "text/plain": [
              "{'name': 'Krish', 'age': 31}"
            ]
          },
          "execution_count": 82,
          "metadata": {},
          "output_type": "execute_result"
        }
      ],
      "source": [
        "dict( name= \"Krish\", age = 31)"
      ]
    },
    {
      "cell_type": "code",
      "execution_count": null,
      "id": "84d9cb6c",
      "metadata": {
        "id": "84d9cb6c",
        "outputId": "894565df-3ce4-4fda-f09b-8cb155fb7d8b"
      },
      "outputs": [
        {
          "data": {
            "text/plain": [
              "dict"
            ]
          },
          "execution_count": 83,
          "metadata": {},
          "output_type": "execute_result"
        }
      ],
      "source": [
        "my_dict = {\"Car1\":\"Audi\", \"Car2\":\"BMW\", \"Car3\":\"Mercidies\"}\n",
        "type(my_dict)"
      ]
    },
    {
      "cell_type": "code",
      "execution_count": null,
      "id": "2cd6505f",
      "metadata": {
        "id": "2cd6505f",
        "outputId": "79dad741-1ab4-43ad-8994-df62bed18a0c"
      },
      "outputs": [
        {
          "data": {
            "text/plain": [
              "'Audi'"
            ]
          },
          "execution_count": 84,
          "metadata": {},
          "output_type": "execute_result"
        }
      ],
      "source": [
        "# Accessing item values based on keys\n",
        "my_dict['Car1']"
      ]
    },
    {
      "cell_type": "code",
      "execution_count": null,
      "id": "77a4325c",
      "metadata": {
        "id": "77a4325c",
        "outputId": "7e30cac7-0fc2-421d-af76-72aa3ed18013"
      },
      "outputs": [
        {
          "data": {
            "text/plain": [
              "dict_items([('Car1', 'Audi'), ('Car2', 'BMW'), ('Car3', 'Mercidies')])"
            ]
          },
          "execution_count": 85,
          "metadata": {},
          "output_type": "execute_result"
        }
      ],
      "source": [
        "my_dict.items()"
      ]
    },
    {
      "cell_type": "code",
      "execution_count": null,
      "id": "d6c590ee",
      "metadata": {
        "id": "d6c590ee",
        "outputId": "37281466-e597-41bc-ca54-7a33ddd8b973"
      },
      "outputs": [
        {
          "data": {
            "text/plain": [
              "dict_keys(['Car1', 'Car2', 'Car3'])"
            ]
          },
          "execution_count": 86,
          "metadata": {},
          "output_type": "execute_result"
        }
      ],
      "source": [
        "my_dict.keys()"
      ]
    },
    {
      "cell_type": "code",
      "execution_count": null,
      "id": "1bcfae77",
      "metadata": {
        "id": "1bcfae77",
        "outputId": "5d40c34e-5b6f-4e26-8c78-64683c3caab2"
      },
      "outputs": [
        {
          "data": {
            "text/plain": [
              "dict_values(['Audi', 'BMW', 'Mercidies'])"
            ]
          },
          "execution_count": 87,
          "metadata": {},
          "output_type": "execute_result"
        }
      ],
      "source": [
        "my_dict.values()"
      ]
    },
    {
      "cell_type": "code",
      "execution_count": null,
      "id": "a41adabf",
      "metadata": {
        "id": "a41adabf",
        "outputId": "0652bd74-850a-4826-9668-5c2c66bc9a28"
      },
      "outputs": [
        {
          "name": "stdout",
          "output_type": "stream",
          "text": [
            "Car1\n",
            "Car2\n",
            "Car3\n"
          ]
        }
      ],
      "source": [
        "for i in my_dict:\n",
        "    print (i)"
      ]
    },
    {
      "cell_type": "code",
      "execution_count": null,
      "id": "bf8a23fd",
      "metadata": {
        "id": "bf8a23fd",
        "outputId": "5d863a2c-0fc6-4fa9-9f44-ebc880f7ba3b"
      },
      "outputs": [
        {
          "name": "stdout",
          "output_type": "stream",
          "text": [
            "Audi\n",
            "BMW\n",
            "Mercidies\n"
          ]
        }
      ],
      "source": [
        "for x in my_dict.values():\n",
        "    print (x)"
      ]
    },
    {
      "cell_type": "code",
      "execution_count": null,
      "id": "6bca700a",
      "metadata": {
        "id": "6bca700a",
        "outputId": "8443e9c2-c3a2-4cc0-8286-e4b7d6ecf45a"
      },
      "outputs": [
        {
          "name": "stdout",
          "output_type": "stream",
          "text": [
            "('Car1', 'Audi')\n",
            "('Car2', 'BMW')\n",
            "('Car3', 'Mercidies')\n"
          ]
        }
      ],
      "source": [
        "for x in my_dict.items():\n",
        "    print (x)"
      ]
    },
    {
      "cell_type": "code",
      "execution_count": null,
      "id": "8ef2645b",
      "metadata": {
        "id": "8ef2645b",
        "outputId": "3eaf8b7a-a4b9-4859-ff77-3ef4f61c3b27"
      },
      "outputs": [
        {
          "data": {
            "text/plain": [
              "{'Car1': 'Audi', 'Car2': 'BMW', 'Car3': 'Mercidies', 'Car4': 'Ambassador'}"
            ]
          },
          "execution_count": 91,
          "metadata": {},
          "output_type": "execute_result"
        }
      ],
      "source": [
        "my_dict[\"Car4\"]=\"Ambassador\"\n",
        "my_dict"
      ]
    },
    {
      "cell_type": "code",
      "execution_count": null,
      "id": "7fda0b55",
      "metadata": {
        "id": "7fda0b55"
      },
      "outputs": [],
      "source": [
        "# Nested Dictionary"
      ]
    },
    {
      "cell_type": "code",
      "execution_count": null,
      "id": "afda0563",
      "metadata": {
        "id": "afda0563",
        "outputId": "934efa34-5be4-441a-a527-9e45cbb24c26"
      },
      "outputs": [
        {
          "data": {
            "text/plain": [
              "{1: {'Garima': 'B.E.Computer'}, 2: {'John': 'B.E. Civil'}}"
            ]
          },
          "execution_count": 93,
          "metadata": {},
          "output_type": "execute_result"
        }
      ],
      "source": [
        "stu1 = {'Garima': \"B.E.Computer\"}\n",
        "stu2 = {\"John\":\"B.E. Civil\"}\n",
        "\n",
        "stu = {1 : stu1 , 2 : stu2}\n",
        "stu"
      ]
    },
    {
      "cell_type": "code",
      "execution_count": null,
      "id": "8de17be7",
      "metadata": {
        "id": "8de17be7",
        "outputId": "60e0ffc0-1fb6-4f73-b131-dcfc8936c4b4"
      },
      "outputs": [
        {
          "name": "stdout",
          "output_type": "stream",
          "text": [
            "{'Garima': 'B.E.Computer'}\n"
          ]
        }
      ],
      "source": [
        "# Accessing items\n",
        "print(stu[1])"
      ]
    },
    {
      "cell_type": "code",
      "execution_count": null,
      "id": "b6183f70",
      "metadata": {
        "id": "b6183f70",
        "outputId": "52078edd-e17d-49ad-e1f4-8dd32e222995"
      },
      "outputs": [
        {
          "name": "stdout",
          "output_type": "stream",
          "text": [
            "B.E.Computer\n"
          ]
        }
      ],
      "source": [
        "print(stu[1][\"Garima\"])"
      ]
    },
    {
      "cell_type": "markdown",
      "id": "c068d3bd",
      "metadata": {
        "id": "c068d3bd"
      },
      "source": [
        "### Tuples"
      ]
    },
    {
      "cell_type": "code",
      "execution_count": null,
      "id": "52f7f776",
      "metadata": {
        "id": "52f7f776"
      },
      "outputs": [],
      "source": [
        "t = (1,2,3,4)"
      ]
    },
    {
      "cell_type": "code",
      "execution_count": null,
      "id": "a713a94f",
      "metadata": {
        "id": "a713a94f",
        "outputId": "f3793165-c575-4bd7-f39d-7d1405714a85"
      },
      "outputs": [
        {
          "data": {
            "text/plain": [
              "4"
            ]
          },
          "execution_count": 101,
          "metadata": {},
          "output_type": "execute_result"
        }
      ],
      "source": [
        "len(t)"
      ]
    },
    {
      "cell_type": "code",
      "execution_count": null,
      "id": "10fd3467",
      "metadata": {
        "id": "10fd3467",
        "outputId": "aa5310a9-2493-4ad6-a155-f18cbbe040ea"
      },
      "outputs": [
        {
          "data": {
            "text/plain": [
              "tuple"
            ]
          },
          "execution_count": 102,
          "metadata": {},
          "output_type": "execute_result"
        }
      ],
      "source": [
        "type(t)"
      ]
    },
    {
      "cell_type": "code",
      "execution_count": null,
      "id": "ede75bd8",
      "metadata": {
        "id": "ede75bd8",
        "outputId": "a68f5cfe-1770-42d2-bef2-6d8bd75f0010"
      },
      "outputs": [
        {
          "data": {
            "text/plain": [
              "1"
            ]
          },
          "execution_count": 103,
          "metadata": {},
          "output_type": "execute_result"
        }
      ],
      "source": [
        "t[0]"
      ]
    },
    {
      "cell_type": "code",
      "execution_count": null,
      "id": "e7f785ea",
      "metadata": {
        "id": "e7f785ea",
        "outputId": "2816372a-e085-471e-87f1-2aef2c6da7e8"
      },
      "outputs": [
        {
          "ename": "TypeError",
          "evalue": "'tuple' object does not support item assignment",
          "output_type": "error",
          "traceback": [
            "\u001b[1;31m---------------------------------------------------------------------------\u001b[0m",
            "\u001b[1;31mTypeError\u001b[0m                                 Traceback (most recent call last)",
            "Cell \u001b[1;32mIn[104], line 1\u001b[0m\n\u001b[1;32m----> 1\u001b[0m t[\u001b[38;5;241m0\u001b[39m] \u001b[38;5;241m=\u001b[39m \u001b[38;5;241m5\u001b[39m\n",
            "\u001b[1;31mTypeError\u001b[0m: 'tuple' object does not support item assignment"
          ]
        }
      ],
      "source": [
        "t[0] = 5 #doesnot support item assignment"
      ]
    },
    {
      "cell_type": "code",
      "execution_count": null,
      "id": "6e74428b",
      "metadata": {
        "id": "6e74428b",
        "outputId": "ee6ac17a-6c64-41d2-f22f-43115e16ce44"
      },
      "outputs": [
        {
          "data": {
            "text/plain": [
              "3"
            ]
          },
          "execution_count": 105,
          "metadata": {},
          "output_type": "execute_result"
        }
      ],
      "source": [
        "t.index(4)"
      ]
    },
    {
      "cell_type": "code",
      "execution_count": null,
      "id": "b5a24d95",
      "metadata": {
        "id": "b5a24d95",
        "outputId": "61ac56fe-5dd3-433b-98ce-2ce5fc20705b"
      },
      "outputs": [
        {
          "data": {
            "text/plain": [
              "10"
            ]
          },
          "execution_count": 107,
          "metadata": {},
          "output_type": "execute_result"
        }
      ],
      "source": [
        "sum(t)"
      ]
    },
    {
      "cell_type": "code",
      "execution_count": null,
      "id": "83e4bc61",
      "metadata": {
        "id": "83e4bc61",
        "outputId": "d69617c9-0582-4e12-8ab3-2a55f77c997c"
      },
      "outputs": [
        {
          "data": {
            "text/plain": [
              "1"
            ]
          },
          "execution_count": 108,
          "metadata": {},
          "output_type": "execute_result"
        }
      ],
      "source": [
        "min(t)"
      ]
    },
    {
      "cell_type": "code",
      "execution_count": null,
      "id": "d1fd0d07",
      "metadata": {
        "id": "d1fd0d07",
        "outputId": "083a61bf-4391-407a-a5cb-e6413139c420"
      },
      "outputs": [
        {
          "data": {
            "text/plain": [
              "4"
            ]
          },
          "execution_count": 109,
          "metadata": {},
          "output_type": "execute_result"
        }
      ],
      "source": [
        "max(t)"
      ]
    },
    {
      "cell_type": "code",
      "execution_count": null,
      "id": "29389240",
      "metadata": {
        "id": "29389240",
        "outputId": "9f85bac1-bc1c-4768-9dd9-94a8100c4cbc"
      },
      "outputs": [
        {
          "data": {
            "text/plain": [
              "(1, 2, 3, 4)"
            ]
          },
          "execution_count": 110,
          "metadata": {},
          "output_type": "execute_result"
        }
      ],
      "source": [
        "t"
      ]
    },
    {
      "cell_type": "code",
      "execution_count": null,
      "id": "d6015256",
      "metadata": {
        "id": "d6015256",
        "outputId": "908edde3-ee1b-4405-e5f1-0789b9a4b122"
      },
      "outputs": [
        {
          "data": {
            "text/plain": [
              "4"
            ]
          },
          "execution_count": 111,
          "metadata": {},
          "output_type": "execute_result"
        }
      ],
      "source": [
        "t[-1]"
      ]
    },
    {
      "cell_type": "code",
      "execution_count": null,
      "id": "ac2495c4",
      "metadata": {
        "id": "ac2495c4",
        "outputId": "3cdd26b6-1d41-4469-bda8-9ba65b6db742"
      },
      "outputs": [
        {
          "data": {
            "text/plain": [
              "(2, 3)"
            ]
          },
          "execution_count": 112,
          "metadata": {},
          "output_type": "execute_result"
        }
      ],
      "source": [
        "t[1:3]"
      ]
    },
    {
      "cell_type": "code",
      "execution_count": null,
      "id": "cd1992a8",
      "metadata": {
        "id": "cd1992a8",
        "outputId": "85ea2608-50eb-4232-b7da-b5e2c319efab"
      },
      "outputs": [
        {
          "data": {
            "text/plain": [
              "(2, 3)"
            ]
          },
          "execution_count": 116,
          "metadata": {},
          "output_type": "execute_result"
        }
      ],
      "source": [
        "t[-3:-1]"
      ]
    },
    {
      "cell_type": "code",
      "execution_count": null,
      "id": "cb05606f",
      "metadata": {
        "id": "cb05606f",
        "outputId": "9bb024ce-b21e-4935-d18d-fa987764e41b"
      },
      "outputs": [
        {
          "data": {
            "text/plain": [
              "2"
            ]
          },
          "execution_count": 117,
          "metadata": {},
          "output_type": "execute_result"
        }
      ],
      "source": [
        "t1 = (1,2,5,2,5,6,7,8,9)\n",
        "t1.count(5)"
      ]
    },
    {
      "cell_type": "code",
      "execution_count": null,
      "id": "5a9be58e",
      "metadata": {
        "id": "5a9be58e",
        "outputId": "8b75f903-17df-4e2f-d422-e688f4ade416"
      },
      "outputs": [
        {
          "data": {
            "text/plain": [
              "[1, 2, 5, 2, 5, 6, 7, 8, 9]"
            ]
          },
          "execution_count": 118,
          "metadata": {},
          "output_type": "execute_result"
        }
      ],
      "source": [
        "list(t1)"
      ]
    },
    {
      "cell_type": "code",
      "execution_count": null,
      "id": "6f44cb31",
      "metadata": {
        "id": "6f44cb31"
      },
      "outputs": [],
      "source": []
    }
  ],
  "metadata": {
    "kernelspec": {
      "display_name": "Python 3 (ipykernel)",
      "language": "python",
      "name": "python3"
    },
    "language_info": {
      "codemirror_mode": {
        "name": "ipython",
        "version": 3
      },
      "file_extension": ".py",
      "mimetype": "text/x-python",
      "name": "python",
      "nbconvert_exporter": "python",
      "pygments_lexer": "ipython3",
      "version": "3.10.9"
    },
    "colab": {
      "provenance": [],
      "include_colab_link": true
    }
  },
  "nbformat": 4,
  "nbformat_minor": 5
}