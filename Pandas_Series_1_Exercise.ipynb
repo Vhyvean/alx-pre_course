{
  "nbformat": 4,
  "nbformat_minor": 0,
  "metadata": {
    "colab": {
      "provenance": [],
      "authorship_tag": "ABX9TyNNthPzQ40UMEWQOXr1ykQS",
      "include_colab_link": true
    },
    "kernelspec": {
      "name": "python3",
      "display_name": "Python 3"
    },
    "language_info": {
      "name": "python"
    }
  },
  "cells": [
    {
      "cell_type": "markdown",
      "metadata": {
        "id": "view-in-github",
        "colab_type": "text"
      },
      "source": [
        "<a href=\"https://colab.research.google.com/github/Vhyvean/alx-pre_course/blob/master/Pandas_Series_1_Exercise.ipynb\" target=\"_parent\"><img src=\"https://colab.research.google.com/assets/colab-badge.svg\" alt=\"Open In Colab\"/></a>"
      ]
    },
    {
      "cell_type": "code",
      "execution_count": 2,
      "metadata": {
        "colab": {
          "base_uri": "https://localhost:8080/"
        },
        "id": "TMEifQ0whAMH",
        "outputId": "694652bf-3c8e-4611-fbfd-4baeb5891930"
      },
      "outputs": [
        {
          "output_type": "stream",
          "name": "stdout",
          "text": [
            "'Product Series:\n",
            "0     Apple\n",
            "1    Banana\n",
            "2    Carrot\n",
            "3    Daikon\n",
            "dtype: object\n",
            "\n",
            "Price Series:\n",
            "0    2\n",
            "1    1\n",
            "2    3\n",
            "3    4\n",
            "dtype: int64\n",
            "\n",
            "Combined:\n",
            "0     Apple - $2\n",
            "1    Banana - $1\n",
            "2    Carrot - $3\n",
            "3    Daikon - $4\n",
            "dtype: object\n",
            "\n",
            "DataFrame from dictionary of lists:\n",
            "  Product  Price\n",
            "0   Apple      2\n",
            "1  Banana      1\n",
            "2  Carrot      3\n",
            "3  Daikon      4\n",
            "\n",
            "DataFrame from list of dictionaries:\n",
            "  Product  Price\n",
            "0   Apple      2\n",
            "1  Banana      1\n",
            "2  Carrot      3\n",
            "3  Daikon      4\n",
            "\n"
          ]
        }
      ],
      "source": [
        "# Import pandas\n",
        "import pandas as pd\n",
        "\n",
        "# Create a list of products\n",
        "products = ['Apple', 'Banana', 'Carrot', 'Daikon']\n",
        "\n",
        "# Convert the list into a panda series\n",
        "products_series = pd.Series(products)\n",
        "\n",
        "# Print the series to see the value\n",
        "print(\"'Product Series:\")\n",
        "print(products_series)\n",
        "print()\n",
        "\n",
        "# Create a series with prices of the products\n",
        "prices = [2, 1, 3, 4]\n",
        "prices_series = pd.Series(prices)\n",
        "\n",
        "# Print the price series\n",
        "print(\"Price Series:\")\n",
        "print(prices_series)\n",
        "print()\n",
        "\n",
        "# Add the two series together and print out the result (this will just combine element-wise if both are numeric, but since one is strings, won't work)\n",
        "# However, for demonstration, let's print them together as product + price info\n",
        "print(\"Combined:\")\n",
        "print(products_series +\" - $\" + prices_series.astype(str))\n",
        "print()\n",
        "\n",
        "# Create a DataFrame using a dictionary of lists\n",
        "data_dict = {\n",
        "    'Product': products_series,\n",
        "    'Price': prices_series\n",
        "}\n",
        "df_dict = pd.DataFrame(data_dict)\n",
        "\n",
        "# Print out the DataFrame\n",
        "print(\"DataFrame from dictionary of lists:\")\n",
        "print(df_dict)\n",
        "print()\n",
        "\n",
        "# Create a DataFrame using a list of dictionaries\n",
        "data_list = [\n",
        "    {'Product': 'Apple', 'Price': 2},\n",
        "    {'Product': 'Banana', 'Price': 1},\n",
        "    {'Product': 'Carrot', 'Price': 3},\n",
        "    {'Product': 'Daikon', 'Price': 4}\n",
        "]\n",
        "df_list = pd.DataFrame(data_list)\n",
        "\n",
        "# Print out the DataFrame\n",
        "print(\"DataFrame from list of dictionaries:\")\n",
        "print(df_list)\n",
        "print()"
      ]
    }
  ]
}