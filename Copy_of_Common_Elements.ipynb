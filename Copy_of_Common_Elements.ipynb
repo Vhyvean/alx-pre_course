{
  "nbformat": 4,
  "nbformat_minor": 0,
  "metadata": {
    "colab": {
      "provenance": [],
      "authorship_tag": "ABX9TyOFR8W31Z1JzPpP6i+FmKY6",
      "include_colab_link": true
    },
    "kernelspec": {
      "name": "python3",
      "display_name": "Python 3"
    },
    "language_info": {
      "name": "python"
    }
  },
  "cells": [
    {
      "cell_type": "markdown",
      "metadata": {
        "id": "view-in-github",
        "colab_type": "text"
      },
      "source": [
        "<a href=\"https://colab.research.google.com/github/Vhyvean/alx-pre_course/blob/master/Copy_of_Common_Elements.ipynb\" target=\"_parent\"><img src=\"https://colab.research.google.com/assets/colab-badge.svg\" alt=\"Open In Colab\"/></a>"
      ]
    },
    {
      "cell_type": "code",
      "execution_count": null,
      "metadata": {
        "id": "LMh9_3pvX_-P"
      },
      "outputs": [],
      "source": [
        "def have_common_elements(list1, list2):\n",
        "    # Loop through each element in the first list\n",
        "    for item in list1:\n",
        "      # Check if that element also exists in the second list\n",
        "      if item in list2:\n",
        "        return True   # If found, return True immediately\n",
        "\n",
        "    return False   # If no match is found, return False"
      ]
    },
    {
      "cell_type": "code",
      "metadata": {
        "colab": {
          "base_uri": "https://localhost:8080/"
        },
        "id": "435e88f6",
        "outputId": "d1f5e3f6-f457-4208-d95a-403d061586b7"
      },
      "source": [
        "def have_common_elements(list1, list2):\n",
        "    # Loop through each element in the first list\n",
        "    for item in list1:\n",
        "      # Check if that element also exists in the second list\n",
        "      if item in list2:\n",
        "        return True   # If found, return True immediately\n",
        "\n",
        "    return False   # If no match is found, return False\n",
        "\n",
        "print(have_common_elements([1, 2, 3], [4, 5, 6]))\n",
        "print(have_common_elements([1, 2, 3], [3, 4, 5]))"
      ],
      "execution_count": null,
      "outputs": [
        {
          "output_type": "stream",
          "name": "stdout",
          "text": [
            "False\n",
            "True\n"
          ]
        }
      ]
    }
  ]
}