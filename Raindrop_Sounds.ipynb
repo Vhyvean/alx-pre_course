{
  "nbformat": 4,
  "nbformat_minor": 0,
  "metadata": {
    "colab": {
      "provenance": [],
      "authorship_tag": "ABX9TyOvm3ZNJeUkSHfgTAIvg9yF",
      "include_colab_link": true
    },
    "kernelspec": {
      "name": "python3",
      "display_name": "Python 3"
    },
    "language_info": {
      "name": "python"
    }
  },
  "cells": [
    {
      "cell_type": "markdown",
      "metadata": {
        "id": "view-in-github",
        "colab_type": "text"
      },
      "source": [
        "<a href=\"https://colab.research.google.com/github/Vhyvean/alx-pre_course/blob/master/Raindrop_Sounds.ipynb\" target=\"_parent\"><img src=\"https://colab.research.google.com/assets/colab-badge.svg\" alt=\"Open In Colab\"/></a>"
      ]
    },
    {
      "cell_type": "code",
      "execution_count": 4,
      "metadata": {
        "colab": {
          "base_uri": "https://localhost:8080/"
        },
        "id": "Tk6tQPpgVKsj",
        "outputId": "2c6a5c35-3441-4f2d-e84c-a1a17d3e52b7"
      },
      "outputs": [
        {
          "output_type": "stream",
          "name": "stdout",
          "text": [
            "plong\n",
            "plingplang\n",
            "34\n"
          ]
        }
      ],
      "source": [
        "def raindrop_speak(number):\n",
        "  if number % 3 == 0 and number % 5 != 0 and number % 7 != 0:\n",
        "    return \"pling\"\n",
        "  elif number % 5 == 0 and number % 3 != 0 and number % 7 != 0:\n",
        "    return \"plang\"\n",
        "  elif number % 7 == 0 and number % 3 != 0 and number % 5 != 0:\n",
        "    return \"plong\"\n",
        "  elif number % 3 == 0 and number % 5 == 0 and number % 7 != 0:\n",
        "    return \"plingplang\"\n",
        "  elif number % 3 == 0 and number % 7 == 0 and number % 5 != 0:\n",
        "    return \"plingplong\"\n",
        "  elif number % 5 == 0 and number % 7 == 0 and number % 3 != 0:\n",
        "    return \"plangplong\"\n",
        "  elif number % 3 == 0 and number % 5 == 0 and number % 7 == 0:\n",
        "    return \"plingplangplong\"\n",
        "  else:\n",
        "    return str(number)\n",
        "\n",
        "print(raindrop_speak(28))\n",
        "print(raindrop_speak(30))\n",
        "print(raindrop_speak(34))\n",
        "\n",
        "\n",
        "\n"
      ]
    }
  ]
}