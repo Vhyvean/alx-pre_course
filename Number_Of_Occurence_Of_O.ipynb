{
  "nbformat": 4,
  "nbformat_minor": 0,
  "metadata": {
    "colab": {
      "provenance": [],
      "authorship_tag": "ABX9TyNhMvamSMmgxIoj1lVzVrtm",
      "include_colab_link": true
    },
    "kernelspec": {
      "name": "python3",
      "display_name": "Python 3"
    },
    "language_info": {
      "name": "python"
    }
  },
  "cells": [
    {
      "cell_type": "markdown",
      "metadata": {
        "id": "view-in-github",
        "colab_type": "text"
      },
      "source": [
        "<a href=\"https://colab.research.google.com/github/Vhyvean/alx-pre_course/blob/master/Number_Of_Occurence_Of_O.ipynb\" target=\"_parent\"><img src=\"https://colab.research.google.com/assets/colab-badge.svg\" alt=\"Open In Colab\"/></a>"
      ]
    },
    {
      "cell_type": "code",
      "execution_count": 2,
      "metadata": {
        "colab": {
          "base_uri": "https://localhost:8080/"
        },
        "id": "SmXXexiXtmvB",
        "outputId": "13537fa4-b4e7-4bf2-ce03-487b0893e5b3"
      },
      "outputs": [
        {
          "output_type": "stream",
          "name": "stdout",
          "text": [
            "Number of occurence of 'o': 4\n"
          ]
        }
      ],
      "source": [
        "text = \"welcome to gomycode\"\n",
        "count_o = 0\n",
        "\n",
        "for char in text:\n",
        "  if char == 'o':\n",
        "    count_o += 1\n",
        "\n",
        "print(\"Number of occurence of 'o':\", count_o)"
      ]
    }
  ]
}