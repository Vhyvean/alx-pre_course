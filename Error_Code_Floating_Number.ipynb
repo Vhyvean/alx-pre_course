{
  "nbformat": 4,
  "nbformat_minor": 0,
  "metadata": {
    "colab": {
      "provenance": [],
      "authorship_tag": "ABX9TyOwYtYDnvRZ+Ka436ewtZtY",
      "include_colab_link": true
    },
    "kernelspec": {
      "name": "python3",
      "display_name": "Python 3"
    },
    "language_info": {
      "name": "python"
    }
  },
  "cells": [
    {
      "cell_type": "markdown",
      "metadata": {
        "id": "view-in-github",
        "colab_type": "text"
      },
      "source": [
        "<a href=\"https://colab.research.google.com/github/Vhyvean/alx-pre_course/blob/master/Error_Code_Floating_Number.ipynb\" target=\"_parent\"><img src=\"https://colab.research.google.com/assets/colab-badge.svg\" alt=\"Open In Colab\"/></a>"
      ]
    },
    {
      "cell_type": "code",
      "execution_count": 3,
      "metadata": {
        "colab": {
          "base_uri": "https://localhost:8080/"
        },
        "id": "pRP51eHLmNjJ",
        "outputId": "c005af6b-976a-4a76-de71-7a80e558c268"
      },
      "outputs": [
        {
          "output_type": "stream",
          "name": "stdout",
          "text": [
            "Enter a floating-point number: -4\n",
            "Error: Cannot calculate the square root of a negative number.\n"
          ]
        }
      ],
      "source": [
        "import math\n",
        "\n",
        "def display_square_root():\n",
        "  user_input = input(\"Enter a floating-point number: \")\n",
        "  number = float(user_input)\n",
        "  if number >= 0:\n",
        "    square_root = math.sqrt(number)\n",
        "    print(\"The square root is:\", square_root)\n",
        "  else:\n",
        "    print(\"Error: Cannot calculate the square root of a negative number.\")\n",
        "\n",
        "display_square_root()\n"
      ]
    }
  ]
}